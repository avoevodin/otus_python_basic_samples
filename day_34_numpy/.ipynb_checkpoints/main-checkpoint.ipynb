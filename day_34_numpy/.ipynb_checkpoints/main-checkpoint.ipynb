{
 "cells": [
  {
   "cell_type": "code",
   "execution_count": 1,
   "id": "d2f26571",
   "metadata": {},
   "outputs": [],
   "source": [
    "import numpy as np\n",
    "from numpy import doc"
   ]
  },
  {
   "cell_type": "code",
   "execution_count": 2,
   "id": "bd231cc4",
   "metadata": {},
   "outputs": [
    {
     "name": "stdout",
     "output_type": "stream",
     "text": [
      "Help on package numpy.doc in numpy:\n",
      "\n",
      "NAME\n",
      "    numpy.doc\n",
      "\n",
      "DESCRIPTION\n",
      "    Topical documentation\n",
      "    =====================\n",
      "    \n",
      "    The following topics are available:\n",
      "    \n",
      "    - constants\n",
      "    - ufuncs\n",
      "    \n",
      "    You can view them by\n",
      "    \n",
      "    >>> help(np.doc.TOPIC)                                      #doctest: +SKIP\n",
      "\n",
      "PACKAGE CONTENTS\n",
      "    constants\n",
      "    ufuncs\n",
      "\n",
      "DATA\n",
      "    __all__ = ['constants', 'ufuncs', '__doc__']\n",
      "\n",
      "FILE\n",
      "    /usr/local/lib/python3.9/site-packages/numpy/doc/__init__.py\n",
      "\n",
      "\n"
     ]
    }
   ],
   "source": [
    "help(doc)"
   ]
  },
  {
   "cell_type": "code",
   "execution_count": 3,
   "id": "8bbe36a9",
   "metadata": {},
   "outputs": [
    {
     "data": {
      "text/plain": [
       "<function numpy.array>"
      ]
     },
     "execution_count": 3,
     "metadata": {},
     "output_type": "execute_result"
    }
   ],
   "source": [
    "np.array"
   ]
  },
  {
   "cell_type": "code",
   "execution_count": 4,
   "id": "18c94e3d",
   "metadata": {},
   "outputs": [
    {
     "name": "stdout",
     "output_type": "stream",
     "text": [
      "[1 2 3]\n",
      "array([1, 2, 3])\n",
      "<class 'numpy.ndarray'>\n"
     ]
    }
   ],
   "source": [
    "a = np.array([1,2,3])\n",
    "print(a)\n",
    "print(repr(a))\n",
    "print(type(a))"
   ]
  },
  {
   "cell_type": "code",
   "execution_count": 5,
   "id": "2b634eeb",
   "metadata": {},
   "outputs": [
    {
     "name": "stdout",
     "output_type": "stream",
     "text": [
      "1\n",
      "(3,)\n",
      "3\n"
     ]
    }
   ],
   "source": [
    "print(a.ndim)\n",
    "print(a.shape)\n",
    "print(a.size)"
   ]
  },
  {
   "cell_type": "code",
   "execution_count": 6,
   "id": "17c3e1e5",
   "metadata": {},
   "outputs": [
    {
     "name": "stdout",
     "output_type": "stream",
     "text": [
      "int64\n"
     ]
    },
    {
     "data": {
      "text/plain": [
       "dtype('int64')"
      ]
     },
     "execution_count": 6,
     "metadata": {},
     "output_type": "execute_result"
    }
   ],
   "source": [
    "print(a.dtype)\n",
    "a.dtype"
   ]
  },
  {
   "cell_type": "code",
   "execution_count": 7,
   "id": "91a4f3b7",
   "metadata": {},
   "outputs": [
    {
     "data": {
      "text/plain": [
       "8"
      ]
     },
     "execution_count": 7,
     "metadata": {},
     "output_type": "execute_result"
    }
   ],
   "source": [
    "a.itemsize"
   ]
  },
  {
   "cell_type": "code",
   "execution_count": 8,
   "id": "5820d663",
   "metadata": {},
   "outputs": [
    {
     "data": {
      "text/plain": [
       "array([[4, 5, 6],\n",
       "       [7, 8, 9]])"
      ]
     },
     "execution_count": 8,
     "metadata": {},
     "output_type": "execute_result"
    }
   ],
   "source": [
    "b = np.array([\n",
    "     [4,5,6], \n",
    "     [7,8,9],\n",
    "])\n",
    "b"
   ]
  },
  {
   "cell_type": "code",
   "execution_count": 9,
   "id": "4923ea38",
   "metadata": {},
   "outputs": [
    {
     "name": "stdout",
     "output_type": "stream",
     "text": [
      "2\n",
      "(2, 3)\n",
      "6\n"
     ]
    },
    {
     "data": {
      "text/plain": [
       "8"
      ]
     },
     "execution_count": 9,
     "metadata": {},
     "output_type": "execute_result"
    }
   ],
   "source": [
    "print(b.ndim)\n",
    "print(b.shape)\n",
    "print(b.size)\n",
    "b.itemsize"
   ]
  },
  {
   "cell_type": "code",
   "execution_count": 10,
   "id": "925b269c",
   "metadata": {},
   "outputs": [
    {
     "name": "stdout",
     "output_type": "stream",
     "text": [
      "int64\n",
      "int64\n",
      "dtype('int64')\n"
     ]
    }
   ],
   "source": [
    "print(b.dtype)\n",
    "print(b.dtype.name)\n",
    "print(repr(b.dtype))"
   ]
  },
  {
   "cell_type": "code",
   "execution_count": 11,
   "id": "c51d79c6",
   "metadata": {},
   "outputs": [
    {
     "name": "stdout",
     "output_type": "stream",
     "text": [
      "['ALLOW_THREADS', 'AxisError', 'BUFSIZE', 'CLIP', 'ComplexWarning', 'DataSource', 'ERR_CALL', 'ERR_DEFAULT', 'ERR_IGNORE', 'ERR_LOG', 'ERR_PRINT', 'ERR_RAISE', 'ERR_WARN', 'FLOATING_POINT_SUPPORT', 'FPE_DIVIDEBYZERO', 'FPE_INVALID', 'FPE_OVERFLOW', 'FPE_UNDERFLOW', 'False_', 'Inf', 'Infinity', 'MAXDIMS', 'MAY_SHARE_BOUNDS', 'MAY_SHARE_EXACT', 'ModuleDeprecationWarning', 'NAN', 'NINF', 'NZERO', 'NaN', 'PINF', 'PZERO', 'RAISE', 'RankWarning', 'SHIFT_DIVIDEBYZERO', 'SHIFT_INVALID', 'SHIFT_OVERFLOW', 'SHIFT_UNDERFLOW', 'ScalarType', 'Tester', 'TooHardError', 'True_', 'UFUNC_BUFSIZE_DEFAULT', 'UFUNC_PYVALS_NAME', 'VisibleDeprecationWarning', 'WRAP', '_CopyMode', '_NoValue', '_UFUNC_API', '__NUMPY_SETUP__', '__all__', '__builtins__', '__cached__', '__config__', '__deprecated_attrs__', '__dir__', '__doc__', '__expired_functions__', '__file__', '__getattr__', '__git_version__', '__loader__', '__name__', '__package__', '__path__', '__spec__', '__version__', '_add_newdoc_ufunc', '_distributor_init', '_financial_names', '_globals', '_mat', '_pyinstaller_hooks_dir', '_pytesttester', '_version', 'abs', 'absolute', 'add', 'add_docstring', 'add_newdoc', 'add_newdoc_ufunc', 'all', 'allclose', 'alltrue', 'amax', 'amin', 'angle', 'any', 'append', 'apply_along_axis', 'apply_over_axes', 'arange', 'arccos', 'arccosh', 'arcsin', 'arcsinh', 'arctan', 'arctan2', 'arctanh', 'argmax', 'argmin', 'argpartition', 'argsort', 'argwhere', 'around', 'array', 'array2string', 'array_equal', 'array_equiv', 'array_repr', 'array_split', 'array_str', 'asanyarray', 'asarray', 'asarray_chkfinite', 'ascontiguousarray', 'asfarray', 'asfortranarray', 'asmatrix', 'atleast_1d', 'atleast_2d', 'atleast_3d', 'average', 'bartlett', 'base_repr', 'binary_repr', 'bincount', 'bitwise_and', 'bitwise_not', 'bitwise_or', 'bitwise_xor', 'blackman', 'block', 'bmat', 'bool8', 'bool_', 'broadcast', 'broadcast_arrays', 'broadcast_shapes', 'broadcast_to', 'busday_count', 'busday_offset', 'busdaycalendar', 'byte', 'byte_bounds', 'bytes0', 'bytes_', 'c_', 'can_cast', 'cast', 'cbrt', 'cdouble', 'ceil', 'cfloat', 'char', 'character', 'chararray', 'choose', 'clip', 'clongdouble', 'clongfloat', 'column_stack', 'common_type', 'compare_chararrays', 'compat', 'complex128', 'complex256', 'complex64', 'complex_', 'complexfloating', 'compress', 'concatenate', 'conj', 'conjugate', 'convolve', 'copy', 'copysign', 'copyto', 'core', 'corrcoef', 'correlate', 'cos', 'cosh', 'count_nonzero', 'cov', 'cross', 'csingle', 'ctypeslib', 'cumprod', 'cumproduct', 'cumsum', 'datetime64', 'datetime_as_string', 'datetime_data', 'deg2rad', 'degrees', 'delete', 'deprecate', 'deprecate_with_doc', 'diag', 'diag_indices', 'diag_indices_from', 'diagflat', 'diagonal', 'diff', 'digitize', 'disp', 'divide', 'divmod', 'doc', 'dot', 'double', 'dsplit', 'dstack', 'dtype', 'e', 'ediff1d', 'einsum', 'einsum_path', 'emath', 'empty', 'empty_like', 'equal', 'error_message', 'errstate', 'euler_gamma', 'exp', 'exp2', 'expand_dims', 'expm1', 'extract', 'eye', 'fabs', 'fastCopyAndTranspose', 'fft', 'fill_diagonal', 'find_common_type', 'finfo', 'fix', 'flatiter', 'flatnonzero', 'flexible', 'flip', 'fliplr', 'flipud', 'float128', 'float16', 'float32', 'float64', 'float_', 'float_power', 'floating', 'floor', 'floor_divide', 'fmax', 'fmin', 'fmod', 'format_float_positional', 'format_float_scientific', 'format_parser', 'frexp', 'from_dlpack', 'frombuffer', 'fromfile', 'fromfunction', 'fromiter', 'frompyfunc', 'fromregex', 'fromstring', 'full', 'full_like', 'gcd', 'generic', 'genfromtxt', 'geomspace', 'get_array_wrap', 'get_include', 'get_printoptions', 'getbufsize', 'geterr', 'geterrcall', 'geterrobj', 'gradient', 'greater', 'greater_equal', 'half', 'hamming', 'hanning', 'heaviside', 'histogram', 'histogram2d', 'histogram_bin_edges', 'histogramdd', 'hsplit', 'hstack', 'hypot', 'i0', 'identity', 'iinfo', 'imag', 'in1d', 'index_exp', 'indices', 'inexact', 'inf', 'info', 'infty', 'inner', 'insert', 'int0', 'int16', 'int32', 'int64', 'int8', 'int_', 'intc', 'integer', 'interp', 'intersect1d', 'intp', 'invert', 'is_busday', 'isclose', 'iscomplex', 'iscomplexobj', 'isfinite', 'isfortran', 'isin', 'isinf', 'isnan', 'isnat', 'isneginf', 'isposinf', 'isreal', 'isrealobj', 'isscalar', 'issctype', 'issubclass_', 'issubdtype', 'issubsctype', 'iterable', 'ix_', 'kaiser', 'kron', 'lcm', 'ldexp', 'left_shift', 'less', 'less_equal', 'lexsort', 'lib', 'linalg', 'linspace', 'little_endian', 'load', 'loadtxt', 'log', 'log10', 'log1p', 'log2', 'logaddexp', 'logaddexp2', 'logical_and', 'logical_not', 'logical_or', 'logical_xor', 'logspace', 'longcomplex', 'longdouble', 'longfloat', 'longlong', 'lookfor', 'ma', 'mask_indices', 'mat', 'math', 'matmul', 'matrix', 'matrixlib', 'max', 'maximum', 'maximum_sctype', 'may_share_memory', 'mean', 'median', 'memmap', 'meshgrid', 'mgrid', 'min', 'min_scalar_type', 'minimum', 'mintypecode', 'mod', 'modf', 'moveaxis', 'msort', 'multiply', 'nan', 'nan_to_num', 'nanargmax', 'nanargmin', 'nancumprod', 'nancumsum', 'nanmax', 'nanmean', 'nanmedian', 'nanmin', 'nanpercentile', 'nanprod', 'nanquantile', 'nanstd', 'nansum', 'nanvar', 'nbytes', 'ndarray', 'ndenumerate', 'ndim', 'ndindex', 'nditer', 'negative', 'nested_iters', 'newaxis', 'nextafter', 'nonzero', 'not_equal', 'numarray', 'number', 'obj2sctype', 'object0', 'object_', 'ogrid', 'oldnumeric', 'ones', 'ones_like', 'os', 'outer', 'packbits', 'pad', 'partition', 'percentile', 'pi', 'piecewise', 'place', 'poly', 'poly1d', 'polyadd', 'polyder', 'polydiv', 'polyfit', 'polyint', 'polymul', 'polynomial', 'polysub', 'polyval', 'positive', 'power', 'printoptions', 'prod', 'product', 'promote_types', 'ptp', 'put', 'put_along_axis', 'putmask', 'quantile', 'r_', 'rad2deg', 'radians', 'random', 'ravel', 'ravel_multi_index', 'real', 'real_if_close', 'rec', 'recarray', 'recfromcsv', 'recfromtxt', 'reciprocal', 'record', 'remainder', 'repeat', 'require', 'reshape', 'resize', 'result_type', 'right_shift', 'rint', 'roll', 'rollaxis', 'roots', 'rot90', 'round', 'round_', 'row_stack', 's_', 'safe_eval', 'save', 'savetxt', 'savez', 'savez_compressed', 'sctype2char', 'sctypeDict', 'sctypes', 'searchsorted', 'select', 'set_numeric_ops', 'set_printoptions', 'set_string_function', 'setbufsize', 'setdiff1d', 'seterr', 'seterrcall', 'seterrobj', 'setxor1d', 'shape', 'shares_memory', 'short', 'show_config', 'sign', 'signbit', 'signedinteger', 'sin', 'sinc', 'single', 'singlecomplex', 'sinh', 'size', 'sometrue', 'sort', 'sort_complex', 'source', 'spacing', 'split', 'sqrt', 'square', 'squeeze', 'stack', 'std', 'str0', 'str_', 'string_', 'subtract', 'sum', 'swapaxes', 'sys', 'take', 'take_along_axis', 'tan', 'tanh', 'tensordot', 'test', 'testing', 'tile', 'timedelta64', 'trace', 'tracemalloc_domain', 'transpose', 'trapz', 'tri', 'tril', 'tril_indices', 'tril_indices_from', 'trim_zeros', 'triu', 'triu_indices', 'triu_indices_from', 'true_divide', 'trunc', 'typecodes', 'typename', 'ubyte', 'ufunc', 'uint', 'uint0', 'uint16', 'uint32', 'uint64', 'uint8', 'uintc', 'uintp', 'ulonglong', 'unicode_', 'union1d', 'unique', 'unpackbits', 'unravel_index', 'unsignedinteger', 'unwrap', 'use_hugepage', 'ushort', 'vander', 'var', 'vdot', 'vectorize', 'version', 'void', 'void0', 'vsplit', 'vstack', 'w', 'warnings', 'where', 'who', 'zeros', 'zeros_like']\n"
     ]
    }
   ],
   "source": [
    "print(dir(np))"
   ]
  },
  {
   "cell_type": "code",
   "execution_count": 12,
   "id": "1b186567",
   "metadata": {},
   "outputs": [
    {
     "name": "stdout",
     "output_type": "stream",
     "text": [
      "int64\n",
      "8\n",
      "int32\n",
      "4\n"
     ]
    }
   ],
   "source": [
    "print(b.dtype)\n",
    "print(b.itemsize)\n",
    "b.dtype = np.int32\n",
    "print(b.dtype)\n",
    "print(b.itemsize)"
   ]
  },
  {
   "cell_type": "code",
   "execution_count": 13,
   "id": "d3b3caed",
   "metadata": {},
   "outputs": [
    {
     "name": "stdout",
     "output_type": "stream",
     "text": [
      "[2 3]\n",
      "int32\n"
     ]
    }
   ],
   "source": [
    "c = np.array([2,3], dtype=np.int32)\n",
    "print(c)\n",
    "print(c.dtype)\n"
   ]
  },
  {
   "cell_type": "code",
   "execution_count": 14,
   "id": "7fc59cb0",
   "metadata": {},
   "outputs": [
    {
     "data": {
      "text/plain": [
       "array([0, 1, 2, 3, 4])"
      ]
     },
     "execution_count": 14,
     "metadata": {},
     "output_type": "execute_result"
    }
   ],
   "source": [
    "np.array(range(5))"
   ]
  },
  {
   "cell_type": "code",
   "execution_count": 15,
   "id": "0ba09620",
   "metadata": {},
   "outputs": [
    {
     "data": {
      "text/plain": [
       "array([ 0,  1,  2,  3,  4,  5,  6,  7,  8,  9, 10, 11, 12, 13, 14])"
      ]
     },
     "execution_count": 15,
     "metadata": {},
     "output_type": "execute_result"
    }
   ],
   "source": [
    "np.arange(15)"
   ]
  },
  {
   "cell_type": "code",
   "execution_count": 16,
   "id": "f3fddab6",
   "metadata": {},
   "outputs": [
    {
     "name": "stdout",
     "output_type": "stream",
     "text": [
      "[ 0  1  2  3  4  5  6  7  8  9 10 11 12 13 14]\n",
      "(15,)\n",
      "[[ 0  1  2  3  4]\n",
      " [ 5  6  7  8  9]\n",
      " [10 11 12 13 14]]\n",
      "(3, 5)\n"
     ]
    }
   ],
   "source": [
    "d = np.arange(15)\n",
    "print(d)\n",
    "print(d.shape)\n",
    "d = d.reshape(3, 5)\n",
    "print(d)\n",
    "print(d.shape)"
   ]
  },
  {
   "cell_type": "code",
   "execution_count": 17,
   "id": "06cce3a3",
   "metadata": {},
   "outputs": [
    {
     "name": "stdout",
     "output_type": "stream",
     "text": [
      "[[ 15  20  25  30  35]\n",
      " [ 40  45  50  55  60]\n",
      " [ 65  70  75  80  85]\n",
      " [ 90  95 100 105 110]]\n"
     ]
    }
   ],
   "source": [
    "e = np.arange(15, 115, 5).reshape(4, 5)\n",
    "print(e)\n"
   ]
  },
  {
   "cell_type": "code",
   "execution_count": 18,
   "id": "53b7298f",
   "metadata": {},
   "outputs": [
    {
     "name": "stdout",
     "output_type": "stream",
     "text": [
      "2\n",
      "(4, 5)\n",
      "20\n",
      "int64\n",
      "8\n"
     ]
    }
   ],
   "source": [
    "print(e.ndim)\n",
    "print(e.shape)\n",
    "print(e.size)\n",
    "print(e.dtype)\n",
    "print(e.itemsize)"
   ]
  },
  {
   "cell_type": "code",
   "execution_count": 19,
   "id": "3fd3b172",
   "metadata": {},
   "outputs": [
    {
     "name": "stdout",
     "output_type": "stream",
     "text": [
      "[1.  1.5 2.  2.5 3.  3.5 4.  4.5]\n"
     ]
    }
   ],
   "source": [
    "f = np.arange(1, 5, 0.5)\n",
    "print(f)"
   ]
  },
  {
   "cell_type": "code",
   "execution_count": 20,
   "id": "b9b2bf47",
   "metadata": {},
   "outputs": [
    {
     "name": "stdout",
     "output_type": "stream",
     "text": [
      "1\n",
      "(8,)\n",
      "8\n",
      "float64\n",
      "8\n"
     ]
    }
   ],
   "source": [
    "print(f.ndim)\n",
    "print(f.shape)\n",
    "print(f.size)\n",
    "print(f.dtype)\n",
    "print(f.itemsize)"
   ]
  },
  {
   "cell_type": "code",
   "execution_count": 21,
   "id": "1d8dc813",
   "metadata": {},
   "outputs": [
    {
     "name": "stdout",
     "output_type": "stream",
     "text": [
      "[0.         0.31578947 0.63157895 0.94736842 1.26315789 1.57894737\n",
      " 1.89473684 2.21052632 2.52631579 2.84210526 3.15789474 3.47368421\n",
      " 3.78947368 4.10526316 4.42105263 4.73684211 5.05263158 5.36842105\n",
      " 5.68421053 6.        ]\n"
     ]
    }
   ],
   "source": [
    "g = np.linspace(0, 6, 20)\n",
    "print(g)"
   ]
  },
  {
   "cell_type": "code",
   "execution_count": 22,
   "id": "6fef2656",
   "metadata": {},
   "outputs": [
    {
     "name": "stdout",
     "output_type": "stream",
     "text": [
      "[ 1.   5.5 10. ]\n"
     ]
    }
   ],
   "source": [
    "print(np.linspace(1, 10, 3))"
   ]
  },
  {
   "cell_type": "code",
   "execution_count": 23,
   "id": "6c4f9464",
   "metadata": {},
   "outputs": [
    {
     "name": "stdout",
     "output_type": "stream",
     "text": [
      "[[0. 0. 0. 0. 0.]\n",
      " [0. 0. 0. 0. 0.]\n",
      " [0. 0. 0. 0. 0.]]\n"
     ]
    }
   ],
   "source": [
    "SIZE_X = 3\n",
    "SIZE_Y = 5\n",
    "SHAPE = (SIZE_X, SIZE_Y)\n",
    "res = np.zeros(SHAPE)\n",
    "print(res)"
   ]
  },
  {
   "cell_type": "code",
   "execution_count": 24,
   "id": "8a8a235c",
   "metadata": {},
   "outputs": [
    {
     "name": "stdout",
     "output_type": "stream",
     "text": [
      "[[0. 0. 0. 0. 0.]\n",
      " [0. 0. 0. 0. 0.]\n",
      " [0. 0. 0. 0. 0.]]\n"
     ]
    }
   ],
   "source": [
    "SIZE_X = 3\n",
    "SIZE_Y = 5\n",
    "SHAPE = (SIZE_X, SIZE_Y)\n",
    "res = np.zeros(SHAPE, dtype=f.dtype)\n",
    "print(res)"
   ]
  },
  {
   "cell_type": "code",
   "execution_count": 25,
   "id": "7f128d9c",
   "metadata": {},
   "outputs": [
    {
     "data": {
      "text/plain": [
       "dtype('float64')"
      ]
     },
     "execution_count": 25,
     "metadata": {},
     "output_type": "execute_result"
    }
   ],
   "source": [
    "res.dtype"
   ]
  },
  {
   "cell_type": "code",
   "execution_count": 26,
   "id": "de8f9881",
   "metadata": {},
   "outputs": [
    {
     "data": {
      "text/plain": [
       "array([ 2, -1,  3,  4])"
      ]
     },
     "execution_count": 26,
     "metadata": {},
     "output_type": "execute_result"
    }
   ],
   "source": [
    "np.diff(np.array([1,3,2,5,9]))"
   ]
  },
  {
   "cell_type": "code",
   "execution_count": 27,
   "id": "4be872db",
   "metadata": {},
   "outputs": [
    {
     "name": "stdout",
     "output_type": "stream",
     "text": [
      "59.99999999999999\n",
      "180.0\n"
     ]
    }
   ],
   "source": [
    "print(np.sum(g))\n",
    "print(np.sum(g * 3))"
   ]
  },
  {
   "cell_type": "code",
   "execution_count": 28,
   "id": "a5b23a12",
   "metadata": {},
   "outputs": [
    {
     "name": "stdout",
     "output_type": "stream",
     "text": [
      "[[ 15  20  25  30  35]\n",
      " [ 40  45  50  55  60]\n",
      " [ 65  70  75  80  85]\n",
      " [ 90  95 100 105 110]]\n",
      "[210 230 250 270 290]\n",
      "[125 250 375 500]\n"
     ]
    }
   ],
   "source": [
    "print(e)\n",
    "print(np.sum(e, axis=0))\n",
    "print(np.sum(e, axis=1))\n"
   ]
  },
  {
   "cell_type": "code",
   "execution_count": 29,
   "id": "b296c2ff",
   "metadata": {},
   "outputs": [
    {
     "name": "stdout",
     "output_type": "stream",
     "text": [
      "-7512729266431459328\n",
      "[ 3510000  5985000  9375000 13860000 19635000]\n",
      "[   7875000  297000000 2320500000 9875250000]\n"
     ]
    }
   ],
   "source": [
    "print(np.prod(e))\n",
    "print(np.prod(e, axis=0))\n",
    "print(np.prod(e, axis=1))"
   ]
  },
  {
   "cell_type": "code",
   "execution_count": 30,
   "id": "97065f1b",
   "metadata": {},
   "outputs": [
    {
     "name": "stdout",
     "output_type": "stream",
     "text": [
      "[[ 15  40  65  90]\n",
      " [ 20  45  70  95]\n",
      " [ 25  50  75 100]\n",
      " [ 30  55  80 105]\n",
      " [ 35  60  85 110]]\n"
     ]
    }
   ],
   "source": [
    "print(e.transpose())"
   ]
  },
  {
   "cell_type": "code",
   "execution_count": 31,
   "id": "a5f2636a",
   "metadata": {},
   "outputs": [
    {
     "name": "stdout",
     "output_type": "stream",
     "text": [
      "[[10 15]\n",
      " [20 25]]\n"
     ]
    },
    {
     "data": {
      "text/plain": [
       "-49.99999999999999"
      ]
     },
     "execution_count": 31,
     "metadata": {},
     "output_type": "execute_result"
    }
   ],
   "source": [
    "h = np.arange(10, 30, 5).reshape(2, 2)\n",
    "print(h)\n",
    "np.linalg.det(h)"
   ]
  },
  {
   "cell_type": "code",
   "execution_count": 32,
   "id": "af9c86f0",
   "metadata": {},
   "outputs": [
    {
     "name": "stdout",
     "output_type": "stream",
     "text": [
      "[[10 11 12]\n",
      " [13 14 15]\n",
      " [16 17 18]]\n"
     ]
    },
    {
     "data": {
      "text/plain": [
       "0.0"
      ]
     },
     "execution_count": 32,
     "metadata": {},
     "output_type": "execute_result"
    }
   ],
   "source": [
    "i = np.arange(10, 19).reshape(3, 3)\n",
    "print(i)\n",
    "np.linalg.det(i)"
   ]
  },
  {
   "cell_type": "code",
   "execution_count": 33,
   "id": "95d984da",
   "metadata": {},
   "outputs": [
    {
     "name": "stdout",
     "output_type": "stream",
     "text": [
      "[[False False False]\n",
      " [False  True  True]\n",
      " [ True  True  True]]\n"
     ]
    },
    {
     "data": {
      "text/plain": [
       "dtype('bool')"
      ]
     },
     "execution_count": 33,
     "metadata": {},
     "output_type": "execute_result"
    }
   ],
   "source": [
    "print(i > 13)\n",
    "(i > 13).dtype"
   ]
  },
  {
   "cell_type": "code",
   "execution_count": 34,
   "id": "65ca3d85",
   "metadata": {},
   "outputs": [
    {
     "name": "stdout",
     "output_type": "stream",
     "text": [
      "[[18 17 16]\n",
      " [15 14 13]\n",
      " [12 11 10]]\n",
      "[[False False False]\n",
      " [False False  True]\n",
      " [ True  True  True]]\n"
     ]
    }
   ],
   "source": [
    "j = np.arange(18, 9, -1).reshape(3, 3)\n",
    "print(j)\n",
    "print(i > j)"
   ]
  },
  {
   "cell_type": "code",
   "execution_count": 35,
   "id": "5cb96db4",
   "metadata": {},
   "outputs": [
    {
     "data": {
      "text/plain": [
       "array([[False, False, False],\n",
       "       [False,  True, False],\n",
       "       [False, False, False]])"
      ]
     },
     "execution_count": 35,
     "metadata": {},
     "output_type": "execute_result"
    }
   ],
   "source": [
    "i == j"
   ]
  },
  {
   "cell_type": "code",
   "execution_count": 36,
   "id": "db0ee4a8",
   "metadata": {},
   "outputs": [
    {
     "name": "stdout",
     "output_type": "stream",
     "text": [
      "[  0   1   8  27  64 125 216 343 512 729]\n",
      "27\n",
      "[ 0  1  8 27 64]\n",
      "[343 512 729]\n",
      "[  1  27 125]\n"
     ]
    }
   ],
   "source": [
    "k = np.arange(10) ** 3\n",
    "print(k)\n",
    "print(k[3])\n",
    "print(k[:5])\n",
    "print(k[7:])\n",
    "print(k[1:7:2])"
   ]
  },
  {
   "cell_type": "code",
   "execution_count": 37,
   "id": "a45109dc",
   "metadata": {},
   "outputs": [
    {
     "name": "stdout",
     "output_type": "stream",
     "text": [
      "0\n",
      "<class 'numpy.int64'>\n",
      "1\n",
      "<class 'numpy.int64'>\n",
      "8\n",
      "<class 'numpy.int64'>\n",
      "27\n",
      "<class 'numpy.int64'>\n",
      "64\n",
      "<class 'numpy.int64'>\n",
      "125\n",
      "<class 'numpy.int64'>\n",
      "216\n",
      "<class 'numpy.int64'>\n",
      "343\n",
      "<class 'numpy.int64'>\n",
      "512\n",
      "<class 'numpy.int64'>\n",
      "729\n",
      "<class 'numpy.int64'>\n"
     ]
    }
   ],
   "source": [
    "for obj in k:\n",
    "    print(obj)\n",
    "    print(type(obj))"
   ]
  },
  {
   "cell_type": "code",
   "execution_count": 38,
   "id": "863a8c2b",
   "metadata": {},
   "outputs": [
    {
     "name": "stdout",
     "output_type": "stream",
     "text": [
      "[729 512 343 216 125  64  27   8   1   0]\n"
     ]
    }
   ],
   "source": [
    "print(k[::-1])"
   ]
  },
  {
   "cell_type": "code",
   "execution_count": 39,
   "id": "35a6cb8d",
   "metadata": {},
   "outputs": [
    {
     "name": "stdout",
     "output_type": "stream",
     "text": [
      "[0, 1, 2, 20, 19, 18, 17, 16, 6, 7, 8, 9]\n"
     ]
    }
   ],
   "source": [
    "list1 = list(range(10))\n",
    "list2 = list(range(20, 15, -1))\n",
    "list1[3:6] = list2\n",
    "print(list1)"
   ]
  },
  {
   "cell_type": "code",
   "execution_count": 40,
   "id": "ff60ef33",
   "metadata": {},
   "outputs": [
    {
     "name": "stdout",
     "output_type": "stream",
     "text": [
      "[888   1   8 888  64 125 888 343 512 729]\n"
     ]
    }
   ],
   "source": [
    "k[:9:3] = 888\n",
    "print(k)"
   ]
  },
  {
   "cell_type": "code",
   "execution_count": 41,
   "id": "d4dd9c7d",
   "metadata": {},
   "outputs": [],
   "source": [
    "def f(x, y):\n",
    "    print(\"x: \", x)\n",
    "    print(\"y: \", y)\n",
    "    return x * 10 + y"
   ]
  },
  {
   "cell_type": "code",
   "execution_count": 42,
   "id": "f591890b",
   "metadata": {},
   "outputs": [
    {
     "name": "stdout",
     "output_type": "stream",
     "text": [
      "x:  [[0 0 0 0 0]\n",
      " [1 1 1 1 1]\n",
      " [2 2 2 2 2]\n",
      " [3 3 3 3 3]]\n",
      "y:  [[0 1 2 3 4]\n",
      " [0 1 2 3 4]\n",
      " [0 1 2 3 4]\n",
      " [0 1 2 3 4]]\n",
      "[[ 0  1  2  3  4]\n",
      " [10 11 12 13 14]\n",
      " [20 21 22 23 24]\n",
      " [30 31 32 33 34]]\n"
     ]
    }
   ],
   "source": [
    "SHAPE = (4, 5)\n",
    "l = np.fromfunction(f, SHAPE, dtype=np.int8)\n",
    "print(l)"
   ]
  },
  {
   "cell_type": "code",
   "execution_count": 43,
   "id": "113d3eec",
   "metadata": {},
   "outputs": [
    {
     "name": "stdout",
     "output_type": "stream",
     "text": [
      "[[ 0  1  2  3  4]\n",
      " [10 11 12 13 14]\n",
      " [20 21 22 23 24]\n",
      " [30 31 32 33 34]]\n"
     ]
    }
   ],
   "source": [
    "print(l)"
   ]
  },
  {
   "cell_type": "code",
   "execution_count": 44,
   "id": "40c61d7d",
   "metadata": {},
   "outputs": [
    {
     "data": {
      "text/plain": [
       "24"
      ]
     },
     "execution_count": 44,
     "metadata": {},
     "output_type": "execute_result"
    }
   ],
   "source": [
    "l[2, 4]"
   ]
  },
  {
   "cell_type": "code",
   "execution_count": 45,
   "id": "8485a9aa",
   "metadata": {},
   "outputs": [
    {
     "data": {
      "text/plain": [
       "24"
      ]
     },
     "execution_count": 45,
     "metadata": {},
     "output_type": "execute_result"
    }
   ],
   "source": [
    "tup = (2, 4)\n",
    "l[tup]"
   ]
  },
  {
   "cell_type": "code",
   "execution_count": 46,
   "id": "6ca02e05",
   "metadata": {},
   "outputs": [
    {
     "name": "stdout",
     "output_type": "stream",
     "text": [
      "[ 3 13 23 33]\n"
     ]
    }
   ],
   "source": [
    "print(l[:, 3])"
   ]
  },
  {
   "cell_type": "code",
   "execution_count": 47,
   "id": "16caeb21",
   "metadata": {},
   "outputs": [
    {
     "name": "stdout",
     "output_type": "stream",
     "text": [
      "[[ 2]\n",
      " [12]\n",
      " [22]\n",
      " [32]]\n",
      "[[ 2  3]\n",
      " [12 13]\n",
      " [22 23]\n",
      " [32 33]]\n"
     ]
    }
   ],
   "source": [
    "print(l[:, 2:3])\n",
    "print(l[:, 2:4])"
   ]
  },
  {
   "cell_type": "code",
   "execution_count": 48,
   "id": "fc84f371",
   "metadata": {},
   "outputs": [
    {
     "name": "stdout",
     "output_type": "stream",
     "text": [
      "[[12 13]\n",
      " [22 23]]\n"
     ]
    }
   ],
   "source": [
    "print(l[1:3, 2:4])"
   ]
  },
  {
   "cell_type": "code",
   "execution_count": 49,
   "id": "1781076e",
   "metadata": {},
   "outputs": [
    {
     "data": {
      "text/plain": [
       "array([30, 31, 32, 33, 34], dtype=int8)"
      ]
     },
     "execution_count": 49,
     "metadata": {},
     "output_type": "execute_result"
    }
   ],
   "source": [
    "l[-1]"
   ]
  },
  {
   "cell_type": "code",
   "execution_count": 50,
   "id": "084d5298",
   "metadata": {},
   "outputs": [
    {
     "data": {
      "text/plain": [
       "array([[30, 31, 32, 33, 34],\n",
       "       [20, 21, 22, 23, 24],\n",
       "       [10, 11, 12, 13, 14],\n",
       "       [ 0,  1,  2,  3,  4]], dtype=int8)"
      ]
     },
     "execution_count": 50,
     "metadata": {},
     "output_type": "execute_result"
    }
   ],
   "source": [
    "l[::-1]"
   ]
  },
  {
   "cell_type": "code",
   "execution_count": 51,
   "id": "fe870895",
   "metadata": {},
   "outputs": [
    {
     "data": {
      "text/plain": [
       "array([[34, 33, 32, 31, 30],\n",
       "       [24, 23, 22, 21, 20],\n",
       "       [14, 13, 12, 11, 10],\n",
       "       [ 4,  3,  2,  1,  0]], dtype=int8)"
      ]
     },
     "execution_count": 51,
     "metadata": {},
     "output_type": "execute_result"
    }
   ],
   "source": [
    "l[::-1, ::-1]"
   ]
  },
  {
   "cell_type": "code",
   "execution_count": 53,
   "id": "f8050717",
   "metadata": {},
   "outputs": [
    {
     "name": "stdout",
     "output_type": "stream",
     "text": [
      "[ 0.          0.94736842  1.89473684  2.84210526  3.78947368  4.73684211\n",
      "  5.68421053  6.63157895  7.57894737  8.52631579  9.47368421 10.42105263\n",
      " 11.36842105 12.31578947 13.26315789 14.21052632 15.15789474 16.10526316\n",
      " 17.05263158 18.        ]\n",
      "[0.0e+000 4.9e-324 9.9e-324 1.5e-323 2.0e-323 2.5e-323 3.0e-323 3.5e-323\n",
      " 4.0e-323 4.4e-323]\n",
      "[1 1 1 1]\n",
      "[3 3 3 3]\n"
     ]
    }
   ],
   "source": [
    "m = np.empty(20)\n",
    "print(m)\n",
    "m = np.empty(10)\n",
    "print(m)\n",
    "m = np.empty(4, dtype=l.dtype)\n",
    "print(m)\n",
    "m.fill(3)\n",
    "print(m)"
   ]
  },
  {
   "cell_type": "code",
   "execution_count": 54,
   "id": "af64c2c8",
   "metadata": {},
   "outputs": [
    {
     "data": {
      "text/plain": [
       "array([[30, 31, 32, 33, 34],\n",
       "       [30, 31, 32, 33, 34],\n",
       "       [30, 31, 32, 33, 34],\n",
       "       [30, 31, 32, 33, 34]], dtype=int8)"
      ]
     },
     "execution_count": 54,
     "metadata": {},
     "output_type": "execute_result"
    }
   ],
   "source": [
    "l[m]"
   ]
  },
  {
   "cell_type": "code",
   "execution_count": 57,
   "id": "8bb762d3",
   "metadata": {},
   "outputs": [
    {
     "data": {
      "text/plain": [
       "array([[30, 31, 32, 33, 34],\n",
       "       [10, 11, 12, 13, 14],\n",
       "       [20, 21, 22, 23, 24]], dtype=int8)"
      ]
     },
     "execution_count": 57,
     "metadata": {},
     "output_type": "execute_result"
    }
   ],
   "source": [
    "n = np.array([3, 1, 2], dtype=np.int8)\n",
    "l[n]"
   ]
  },
  {
   "cell_type": "code",
   "execution_count": 71,
   "id": "f325b72b",
   "metadata": {},
   "outputs": [
    {
     "name": "stdout",
     "output_type": "stream",
     "text": [
      "[[[ 0  1  2  3  4  5]\n",
      "  [ 6  7  8  9 10 11]\n",
      "  [12 13 14 15 16 17]\n",
      "  [18 19 20 21 22 23]]\n",
      "\n",
      " [[24 25 26 27 28 29]\n",
      "  [30 31 32 33 34 35]\n",
      "  [36 37 38 39 40 41]\n",
      "  [42 43 44 45 46 47]]]\n"
     ]
    }
   ],
   "source": [
    "SHAPE_3D = (2, 4, 6)\n",
    "o = np.arange(48, dtype=np.int16).reshape(SHAPE_3D)\n",
    "print(o)"
   ]
  },
  {
   "cell_type": "code",
   "execution_count": 72,
   "id": "6952d633",
   "metadata": {},
   "outputs": [
    {
     "name": "stdout",
     "output_type": "stream",
     "text": [
      "3\n",
      "(2, 4, 6)\n",
      "48\n",
      "int16\n",
      "2\n"
     ]
    }
   ],
   "source": [
    "print(o.ndim)\n",
    "print(o.shape)\n",
    "print(o.size)\n",
    "print(o.dtype)\n",
    "print(o.itemsize)"
   ]
  },
  {
   "cell_type": "code",
   "execution_count": 81,
   "id": "8b752a4a",
   "metadata": {},
   "outputs": [
    {
     "name": "stdout",
     "output_type": "stream",
     "text": [
      "[[ 5 11]]\n",
      "=========\n",
      "[[ 5 11 17 23]\n",
      " [29 35 41 47]]\n",
      "=========\n",
      "[[ 5 11 17 23]\n",
      " [29 35 41 47]]\n"
     ]
    }
   ],
   "source": [
    "print(o[:1, :2, 5])\n",
    "print(\"===\" * 3)\n",
    "print(o[:, :, 5])\n",
    "print(\"===\" * 3)\n",
    "print(o[..., 5])"
   ]
  },
  {
   "cell_type": "code",
   "execution_count": 89,
   "id": "83d931f4",
   "metadata": {},
   "outputs": [
    {
     "name": "stdout",
     "output_type": "stream",
     "text": [
      "(2, 3, 4, 5, 6)\n",
      "[[[[[         0          0  132211513          1          0          0]\n",
      "    [      -199         -1        228          0          0          0]\n",
      "    [1532698656  538976347  538976288  538976288  538976288  807411744]\n",
      "    [ 538976288  538976288  538976288  538976288  926228512  538976288]\n",
      "    [ 538976288  538976288  538976288  807411744  538976266  538976288]]\n",
      "\n",
      "   [[ 538976288  874520608  808661556  909455927  538976313  538976288]\n",
      "    [ 538976288  538976288  538976288  538976304  538976288  538976288]\n",
      "    [ 538976288  757080096  537550129 1528832032  538976288  538976288]\n",
      "    [ 538976288  538976288  540093728  538976288  538976288  538976288]\n",
      "    [ 538976288  540357664  875639602  892680248  926036019  926364729]]\n",
      "\n",
      "   [[ 171521074  538976288  538976288  538976288  538976288  538976288]\n",
      "    [ 807411744  538976288  538976288  538976288  538976288  958406688]\n",
      "    [ 538976288  538976288  875831328  959526200  808464432  538970717]\n",
      "    [ 542842912  538976288  538976288  858928180  909260592  840970801]\n",
      "    [ 942944563  859125048  959526960  842478390  538982713  943076407]]\n",
      "\n",
      "   [[ 825506096  892745782  875575606  537538608  538976288  875639602]\n",
      "    [ 926234680  842150968  875705649  540028976  825373490  959985968]\n",
      "    [ 892482612  859190585  540161333  875639602  892680248  926036019]\n",
      "    [ 926364729 1564030002  538976266  959666976  808990000  876097587]\n",
      "    [ 892483638  875902512  825499697  842217009  909587509  892482613]]]\n",
      "\n",
      "\n",
      "  [[[ 825766457  959651894  842020663  875771440  925972790  925906228]\n",
      "    [ 538970681  857743392  875966774  959525173  875903027  909652019]\n",
      "    [ 857747508  960051254  892549169  909457458  808530739  538980406]\n",
      "    [ 943076407  842346545  943141177  808464436  173880885  538976288]\n",
      "    [ 926495579  825372984  909193780  959919152  875574064  842215968]]\n",
      "\n",
      "   [[ 842282288  842477878  842413876  909391158  959853344  892810288]\n",
      "    [ 842084408  942879289  926234168  538976266  942874656  942748467]\n",
      "    [ 875772214  876033329  842149945  942874680  943206963  859320624]\n",
      "    [ 859125814  808792886  825499703  858861874  909261110  959460405]\n",
      "    [ 909718064  173890867  538976266  926112603  842084662  842151473]]\n",
      "\n",
      "   [[ 842018868  959919412  875765810  892613431  875705913  808792119]\n",
      "    [ 808661809  924852276  808990260  909717558  892678200  842283312]\n",
      "    [ 538970676  857743392  959526455  859191348  825832505  875966512]\n",
      "    [ 840971833  808530483  926496825  875902776  842018873  857748023]\n",
      "    [ 942683703  892547636  959854900  842413365  173880885  538976288]]\n",
      "\n",
      "   [[ 825635675  926168118  892547129  808727861  926167600  842543904]\n",
      "    [ 892940344  959983665  875967286  808727093  909587232  809055793]\n",
      "    [ 892876592  959658033  909326384  538976266  808722464  925907252]\n",
      "    [ 825375028  925970998  943273781  909320244  959524921  959591477]\n",
      "    [ 875968567  825765936  924852278  808990260  875770680  959656757]]]\n",
      "\n",
      "\n",
      "  [[[ 809056313  537550132 1528832032  959985203  808532280  892613940]\n",
      "    [ 943140915  540030517  825373490  926300464  926495541  842545208]\n",
      "    [ 540030515  943207987  875706679  825702200  909392177  171323696]\n",
      "    [ 538976288  842085408  825241907  825374263  892940850  859255347]\n",
      "    [ 875574304  926298676  859125304  959788082  959658040  859321120]]\n",
      "\n",
      "   [[ 926365748  859191609  926300466  876034103  538970717  878387232]\n",
      "    [ 808531248  909717812  808923189  909129267  857749552  825308727]\n",
      "    [ 875769907  942879801  859320627  908079929  892809783  842085433]\n",
      "    [ 876099128  926101553  537540914  538976288  825439026  876033333]\n",
      "    [ 859190578  892417072  540030771  959920435  892548914  892811573]]\n",
      "\n",
      "   [[ 842478387  540422450  959721524  959723312  926036019  892482615]\n",
      "    [1563963442  538976266  909335328  926300209  858928695  825439795]\n",
      "    [ 942814773  858923056  825506097  909260341  858992693  926167856]\n",
      "    [ 825499702  859124274  825309497  926365241  959524917  538970675]\n",
      "    [ 874520608  808531248  909128500  943011896  875573558  538981176]]\n",
      "\n",
      "   [[ 538976288  538976288  538976288  538976288  538980384  538976288]\n",
      "    [ 538976288  538976288  538976288 1566388256  538970634  542858016]\n",
      "    [ 538976288  538976288  538976288  538976288  857747488  842477625]\n",
      "    [ 909653041  943141685  825372979  857749049  808727352  825766961]\n",
      "    [ 959655984  842544182  537540149  538976288  825636659  859321401]]]]\n",
      "\n",
      "\n",
      "\n",
      " [[[[ 842282552  875771188  540226099  959525682  825307444  825768248]\n",
      "    [ 909128760  540554292  859191091  825506096  959526452  909128499]\n",
      "    [1563570489  538976266  875780896  858993207  892417842  892942132]\n",
      "    [ 926102580  942874677  959461426  942682421  909325881  842478644]\n",
      "    [ 926097465  959852854  959852592  825570361  942879280  538970680]]\n",
      "\n",
      "   [[ 857743392  875967797  892743991  959983667  892417329  857747768]\n",
      "    [ 825439032  842544440  909259830  842086194  874526008  858993201]\n",
      "    [ 842479672  808596534  825571377  173879860  538976288  909587291]\n",
      "    [ 842610482  858861880  942815288  808793909  825438752  892417081]\n",
      "    [ 859191605  959459634  909326643  875901728  825765942  943011635]]\n",
      "\n",
      "   [[ 808857653  842479160  538976266  825499680  892874802  876032049]\n",
      "    [ 926232631  825702457  808722483  909259828  909654071  892547897]\n",
      "    [ 926495026  808722484  842215733  942945331  825503799  926102584]\n",
      "    [ 537550130 1528832032  825439026  892483892  875836469  909587252]\n",
      "    [ 540620342  825372980  926167857  859123764  942682934  540162359]]\n",
      "\n",
      "   [[ 925907251  825700402  892678709  943142456  171128624  538976288]\n",
      "    [ 859321120  808794164  859123764  942945586  943273268  842215968]\n",
      "    [ 943141681  825439026  809056569  825701424  909587232  925905969]\n",
      "    [ 892678709  926234675  909194294  538970717  861610016  959591224]\n",
      "    [ 926036784  926036787  892875574  857749047  942814008  942747704]]]\n",
      "\n",
      "\n",
      "  [[[ 909719607  909587256  857748536  842477878  825833272  876034103]\n",
      "    [ 925906484  537539122  538976288  538976288  538976288  825702193]\n",
      "    [ 959658040  540094521  876033075  825243701  808464690  875575090]\n",
      "    [ 540490040  925972019  875966512  825569589  808859193 1563441200]\n",
      "    [ 537528925 1532698656  825636659  859321401  892614200  876098104]]\n",
      "\n",
      "   [[ 540292408  959525682  876033849  859124279  875902770  540162361]\n",
      "    [ 842413875  892613429  892745520  808924729  171323704  538976288]\n",
      "    [ 909587232  859190576  909195568  892481843  942945847  842543904]\n",
      "    [ 892940344  942750000  926167349  943010867  926167840  876098868]\n",
      "    [ 892875317  959459896  808466740  538970717  911941664  842413621]]\n",
      "\n",
      "   [[ 926233400  892876344  943077174  857748281  959526455  875901239]\n",
      "    [ 943208500  909521205  857749817  842151479  842019637  875706419]\n",
      "    [ 825242167  537540151  538976288  875639602  959525177  959919673]\n",
      "    [ 808793140  540031028  892613939  959853362  925905205  842217265]\n",
      "    [ 540226357  959985203  942813497  909390136  875967545 1563439926]]\n",
      "\n",
      "   [[ 538976266  959666976  909719607  859387189  959722292  825700662]\n",
      "    [ 858923063  859123762  909195572  942682675  859191094  959651894]\n",
      "    [ 926299184  825765942  959459888  808859952  538970672  840966176]\n",
      "    [ 942944563  859125048  859124784  943142195  857748535  942815028]\n",
      "    [ 909588025  926101553  875575088  857749298  892483127  842479411]]]\n",
      "\n",
      "\n",
      "  [[[ 825373492  858797880  173879353  538976288  825438811  808532276]\n",
      "    [ 842479928  892613942  959854133  825635616  842215736  942814259]\n",
      "    [ 943208243  942815028  825635616  892680247  876034098  859124019]\n",
      "    [ 909719094  538976266  959651872  909719607  859387189  875705653]\n",
      "    [ 808793910  858923060  825506097  892416304  909455929  943141429]]\n",
      "\n",
      "   [[ 942874680  942748467  825504817  808792371  960051253  537550131]\n",
      "    [1528832032  875639602  892680248  892612659  926233395  540554803]\n",
      "    [ 943207987  825372725  808531257  859386672  540227125  925972019]\n",
      "    [ 942946101  943141425  943077424  171257908  538976288  825438752]\n",
      "    [ 959461684  858994999  842479669  808858418  859321120  875837235]]\n",
      "\n",
      "   [[ 943274291  926300213  858993974  892351520  825439025  858927921]\n",
      "    [ 892482104  842019383  173890909  872417802  538982452  858863928]\n",
      "    [ 876163376  941629490  808661305  943272242  959979552  842019633]\n",
      "    [ 540292404  825833504  926036019  538980401  858863928  909718064]\n",
      "    [ 537550134 1528832032  825833504  842215475  538980914  858863928]]\n",
      "\n",
      "   [[ 926167856  892411960  825637172  875903026  859119648  909588792]\n",
      "    [ 540423731  859060512  909522736  538982713  943273273  892875573]\n",
      "    [ 537550134 1528832032  942684192  875835961  538982452  926233144]\n",
      "    [ 909521200  941629492  926167604  808990776  892870688  909455929]\n",
      "    [ 540424496  909588512  858993456  538980913  942815544  842346545]]]]]\n"
     ]
    }
   ],
   "source": [
    "SHAPE_5D = tuple(range(2, 7))\n",
    "print(SHAPE_5D)\n",
    "p = np.empty(SHAPE_5D, dtype=np.int32)\n",
    "print(p)"
   ]
  },
  {
   "cell_type": "code",
   "execution_count": 90,
   "id": "09116050",
   "metadata": {},
   "outputs": [
    {
     "name": "stdout",
     "output_type": "stream",
     "text": [
      "5\n",
      "(2, 3, 4, 5, 6)\n",
      "720\n",
      "int32\n",
      "4\n"
     ]
    }
   ],
   "source": [
    "print(p.ndim)\n",
    "print(p.shape)\n",
    "print(p.size)\n",
    "print(p.dtype)\n",
    "print(p.itemsize)"
   ]
  },
  {
   "cell_type": "code",
   "execution_count": 91,
   "id": "0767139e",
   "metadata": {},
   "outputs": [
    {
     "data": {
      "text/plain": [
       "array([[[ 825768248,  909128499,  892942132,  842478644,  538970680],\n",
       "        [ 857747768,  858993201,  909587291,  892417081,  943011635],\n",
       "        [ 876032049,  892547897,  926102584,  909587252,  540162359],\n",
       "        [ 538976288,  842215968,  925905969,  959591224,  942747704]],\n",
       "\n",
       "       [[ 876034103,  825702193,  875575090, 1563441200,  876098104],\n",
       "        [ 540162361,  538976288,  842543904,  876098868,  842413621],\n",
       "        [ 875901239,  875706419,  959919673,  842217265, 1563439926],\n",
       "        [ 825700662,  959651894,  840966176,  942815028,  842479411]],\n",
       "\n",
       "       [[ 808532276,  942814259,  859124019,  875705653,  943141429],\n",
       "        [ 537550131,  540554803,  925972019,  825438752,  875837235],\n",
       "        [ 858927921,  858863928,  842019633,  909718064,  858863928],\n",
       "        [ 909588792,  892875573,  926233144,  909455929,  842346545]]],\n",
       "      dtype=int32)"
      ]
     },
     "execution_count": 91,
     "metadata": {},
     "output_type": "execute_result"
    }
   ],
   "source": [
    "p[1, ..., 5]"
   ]
  },
  {
   "cell_type": "code",
   "execution_count": 92,
   "id": "28962496",
   "metadata": {},
   "outputs": [
    {
     "name": "stdout",
     "output_type": "stream",
     "text": [
      "[[[[[  0   1   2   3   4   5]\n",
      "    [  6   7   8   9  10  11]\n",
      "    [ 12  13  14  15  16  17]\n",
      "    [ 18  19  20  21  22  23]\n",
      "    [ 24  25  26  27  28  29]]\n",
      "\n",
      "   [[ 30  31  32  33  34  35]\n",
      "    [ 36  37  38  39  40  41]\n",
      "    [ 42  43  44  45  46  47]\n",
      "    [ 48  49  50  51  52  53]\n",
      "    [ 54  55  56  57  58  59]]\n",
      "\n",
      "   [[ 60  61  62  63  64  65]\n",
      "    [ 66  67  68  69  70  71]\n",
      "    [ 72  73  74  75  76  77]\n",
      "    [ 78  79  80  81  82  83]\n",
      "    [ 84  85  86  87  88  89]]\n",
      "\n",
      "   [[ 90  91  92  93  94  95]\n",
      "    [ 96  97  98  99 100 101]\n",
      "    [102 103 104 105 106 107]\n",
      "    [108 109 110 111 112 113]\n",
      "    [114 115 116 117 118 119]]]\n",
      "\n",
      "\n",
      "  [[[120 121 122 123 124 125]\n",
      "    [126 127 128 129 130 131]\n",
      "    [132 133 134 135 136 137]\n",
      "    [138 139 140 141 142 143]\n",
      "    [144 145 146 147 148 149]]\n",
      "\n",
      "   [[150 151 152 153 154 155]\n",
      "    [156 157 158 159 160 161]\n",
      "    [162 163 164 165 166 167]\n",
      "    [168 169 170 171 172 173]\n",
      "    [174 175 176 177 178 179]]\n",
      "\n",
      "   [[180 181 182 183 184 185]\n",
      "    [186 187 188 189 190 191]\n",
      "    [192 193 194 195 196 197]\n",
      "    [198 199 200 201 202 203]\n",
      "    [204 205 206 207 208 209]]\n",
      "\n",
      "   [[210 211 212 213 214 215]\n",
      "    [216 217 218 219 220 221]\n",
      "    [222 223 224 225 226 227]\n",
      "    [228 229 230 231 232 233]\n",
      "    [234 235 236 237 238 239]]]\n",
      "\n",
      "\n",
      "  [[[240 241 242 243 244 245]\n",
      "    [246 247 248 249 250 251]\n",
      "    [252 253 254 255 256 257]\n",
      "    [258 259 260 261 262 263]\n",
      "    [264 265 266 267 268 269]]\n",
      "\n",
      "   [[270 271 272 273 274 275]\n",
      "    [276 277 278 279 280 281]\n",
      "    [282 283 284 285 286 287]\n",
      "    [288 289 290 291 292 293]\n",
      "    [294 295 296 297 298 299]]\n",
      "\n",
      "   [[300 301 302 303 304 305]\n",
      "    [306 307 308 309 310 311]\n",
      "    [312 313 314 315 316 317]\n",
      "    [318 319 320 321 322 323]\n",
      "    [324 325 326 327 328 329]]\n",
      "\n",
      "   [[330 331 332 333 334 335]\n",
      "    [336 337 338 339 340 341]\n",
      "    [342 343 344 345 346 347]\n",
      "    [348 349 350 351 352 353]\n",
      "    [354 355 356 357 358 359]]]]\n",
      "\n",
      "\n",
      "\n",
      " [[[[360 361 362 363 364 365]\n",
      "    [366 367 368 369 370 371]\n",
      "    [372 373 374 375 376 377]\n",
      "    [378 379 380 381 382 383]\n",
      "    [384 385 386 387 388 389]]\n",
      "\n",
      "   [[390 391 392 393 394 395]\n",
      "    [396 397 398 399 400 401]\n",
      "    [402 403 404 405 406 407]\n",
      "    [408 409 410 411 412 413]\n",
      "    [414 415 416 417 418 419]]\n",
      "\n",
      "   [[420 421 422 423 424 425]\n",
      "    [426 427 428 429 430 431]\n",
      "    [432 433 434 435 436 437]\n",
      "    [438 439 440 441 442 443]\n",
      "    [444 445 446 447 448 449]]\n",
      "\n",
      "   [[450 451 452 453 454 455]\n",
      "    [456 457 458 459 460 461]\n",
      "    [462 463 464 465 466 467]\n",
      "    [468 469 470 471 472 473]\n",
      "    [474 475 476 477 478 479]]]\n",
      "\n",
      "\n",
      "  [[[480 481 482 483 484 485]\n",
      "    [486 487 488 489 490 491]\n",
      "    [492 493 494 495 496 497]\n",
      "    [498 499 500 501 502 503]\n",
      "    [504 505 506 507 508 509]]\n",
      "\n",
      "   [[510 511 512 513 514 515]\n",
      "    [516 517 518 519 520 521]\n",
      "    [522 523 524 525 526 527]\n",
      "    [528 529 530 531 532 533]\n",
      "    [534 535 536 537 538 539]]\n",
      "\n",
      "   [[540 541 542 543 544 545]\n",
      "    [546 547 548 549 550 551]\n",
      "    [552 553 554 555 556 557]\n",
      "    [558 559 560 561 562 563]\n",
      "    [564 565 566 567 568 569]]\n",
      "\n",
      "   [[570 571 572 573 574 575]\n",
      "    [576 577 578 579 580 581]\n",
      "    [582 583 584 585 586 587]\n",
      "    [588 589 590 591 592 593]\n",
      "    [594 595 596 597 598 599]]]\n",
      "\n",
      "\n",
      "  [[[600 601 602 603 604 605]\n",
      "    [606 607 608 609 610 611]\n",
      "    [612 613 614 615 616 617]\n",
      "    [618 619 620 621 622 623]\n",
      "    [624 625 626 627 628 629]]\n",
      "\n",
      "   [[630 631 632 633 634 635]\n",
      "    [636 637 638 639 640 641]\n",
      "    [642 643 644 645 646 647]\n",
      "    [648 649 650 651 652 653]\n",
      "    [654 655 656 657 658 659]]\n",
      "\n",
      "   [[660 661 662 663 664 665]\n",
      "    [666 667 668 669 670 671]\n",
      "    [672 673 674 675 676 677]\n",
      "    [678 679 680 681 682 683]\n",
      "    [684 685 686 687 688 689]]\n",
      "\n",
      "   [[690 691 692 693 694 695]\n",
      "    [696 697 698 699 700 701]\n",
      "    [702 703 704 705 706 707]\n",
      "    [708 709 710 711 712 713]\n",
      "    [714 715 716 717 718 719]]]]]\n"
     ]
    }
   ],
   "source": [
    "p = np.arange(p.size).reshape(p.shape)\n",
    "print(p)"
   ]
  },
  {
   "cell_type": "code",
   "execution_count": 93,
   "id": "790564e2",
   "metadata": {},
   "outputs": [
    {
     "data": {
      "text/plain": [
       "array([[[365, 371, 377, 383, 389],\n",
       "        [395, 401, 407, 413, 419],\n",
       "        [425, 431, 437, 443, 449],\n",
       "        [455, 461, 467, 473, 479]],\n",
       "\n",
       "       [[485, 491, 497, 503, 509],\n",
       "        [515, 521, 527, 533, 539],\n",
       "        [545, 551, 557, 563, 569],\n",
       "        [575, 581, 587, 593, 599]],\n",
       "\n",
       "       [[605, 611, 617, 623, 629],\n",
       "        [635, 641, 647, 653, 659],\n",
       "        [665, 671, 677, 683, 689],\n",
       "        [695, 701, 707, 713, 719]]])"
      ]
     },
     "execution_count": 93,
     "metadata": {},
     "output_type": "execute_result"
    }
   ],
   "source": [
    "p[1, ..., 5]"
   ]
  },
  {
   "cell_type": "code",
   "execution_count": 94,
   "id": "e2c7cefa",
   "metadata": {},
   "outputs": [],
   "source": [
    "def f5(a, b, c, d, e):\n",
    "    print(\"a: \", a)\n",
    "    print(\"b: \", b)\n",
    "    print(\"c: \", c)\n",
    "    print(\"d: \", d)\n",
    "    print(\"e: \", e)\n",
    "    return a * 10000 + b * 1000 + c * 100 + d * 10 + e"
   ]
  },
  {
   "cell_type": "code",
   "execution_count": 95,
   "id": "5bd07a22",
   "metadata": {},
   "outputs": [
    {
     "name": "stdout",
     "output_type": "stream",
     "text": [
      "a:  [[[[[0 0 0 0 0 0]\n",
      "    [0 0 0 0 0 0]\n",
      "    [0 0 0 0 0 0]\n",
      "    [0 0 0 0 0 0]\n",
      "    [0 0 0 0 0 0]]\n",
      "\n",
      "   [[0 0 0 0 0 0]\n",
      "    [0 0 0 0 0 0]\n",
      "    [0 0 0 0 0 0]\n",
      "    [0 0 0 0 0 0]\n",
      "    [0 0 0 0 0 0]]\n",
      "\n",
      "   [[0 0 0 0 0 0]\n",
      "    [0 0 0 0 0 0]\n",
      "    [0 0 0 0 0 0]\n",
      "    [0 0 0 0 0 0]\n",
      "    [0 0 0 0 0 0]]\n",
      "\n",
      "   [[0 0 0 0 0 0]\n",
      "    [0 0 0 0 0 0]\n",
      "    [0 0 0 0 0 0]\n",
      "    [0 0 0 0 0 0]\n",
      "    [0 0 0 0 0 0]]]\n",
      "\n",
      "\n",
      "  [[[0 0 0 0 0 0]\n",
      "    [0 0 0 0 0 0]\n",
      "    [0 0 0 0 0 0]\n",
      "    [0 0 0 0 0 0]\n",
      "    [0 0 0 0 0 0]]\n",
      "\n",
      "   [[0 0 0 0 0 0]\n",
      "    [0 0 0 0 0 0]\n",
      "    [0 0 0 0 0 0]\n",
      "    [0 0 0 0 0 0]\n",
      "    [0 0 0 0 0 0]]\n",
      "\n",
      "   [[0 0 0 0 0 0]\n",
      "    [0 0 0 0 0 0]\n",
      "    [0 0 0 0 0 0]\n",
      "    [0 0 0 0 0 0]\n",
      "    [0 0 0 0 0 0]]\n",
      "\n",
      "   [[0 0 0 0 0 0]\n",
      "    [0 0 0 0 0 0]\n",
      "    [0 0 0 0 0 0]\n",
      "    [0 0 0 0 0 0]\n",
      "    [0 0 0 0 0 0]]]\n",
      "\n",
      "\n",
      "  [[[0 0 0 0 0 0]\n",
      "    [0 0 0 0 0 0]\n",
      "    [0 0 0 0 0 0]\n",
      "    [0 0 0 0 0 0]\n",
      "    [0 0 0 0 0 0]]\n",
      "\n",
      "   [[0 0 0 0 0 0]\n",
      "    [0 0 0 0 0 0]\n",
      "    [0 0 0 0 0 0]\n",
      "    [0 0 0 0 0 0]\n",
      "    [0 0 0 0 0 0]]\n",
      "\n",
      "   [[0 0 0 0 0 0]\n",
      "    [0 0 0 0 0 0]\n",
      "    [0 0 0 0 0 0]\n",
      "    [0 0 0 0 0 0]\n",
      "    [0 0 0 0 0 0]]\n",
      "\n",
      "   [[0 0 0 0 0 0]\n",
      "    [0 0 0 0 0 0]\n",
      "    [0 0 0 0 0 0]\n",
      "    [0 0 0 0 0 0]\n",
      "    [0 0 0 0 0 0]]]]\n",
      "\n",
      "\n",
      "\n",
      " [[[[1 1 1 1 1 1]\n",
      "    [1 1 1 1 1 1]\n",
      "    [1 1 1 1 1 1]\n",
      "    [1 1 1 1 1 1]\n",
      "    [1 1 1 1 1 1]]\n",
      "\n",
      "   [[1 1 1 1 1 1]\n",
      "    [1 1 1 1 1 1]\n",
      "    [1 1 1 1 1 1]\n",
      "    [1 1 1 1 1 1]\n",
      "    [1 1 1 1 1 1]]\n",
      "\n",
      "   [[1 1 1 1 1 1]\n",
      "    [1 1 1 1 1 1]\n",
      "    [1 1 1 1 1 1]\n",
      "    [1 1 1 1 1 1]\n",
      "    [1 1 1 1 1 1]]\n",
      "\n",
      "   [[1 1 1 1 1 1]\n",
      "    [1 1 1 1 1 1]\n",
      "    [1 1 1 1 1 1]\n",
      "    [1 1 1 1 1 1]\n",
      "    [1 1 1 1 1 1]]]\n",
      "\n",
      "\n",
      "  [[[1 1 1 1 1 1]\n",
      "    [1 1 1 1 1 1]\n",
      "    [1 1 1 1 1 1]\n",
      "    [1 1 1 1 1 1]\n",
      "    [1 1 1 1 1 1]]\n",
      "\n",
      "   [[1 1 1 1 1 1]\n",
      "    [1 1 1 1 1 1]\n",
      "    [1 1 1 1 1 1]\n",
      "    [1 1 1 1 1 1]\n",
      "    [1 1 1 1 1 1]]\n",
      "\n",
      "   [[1 1 1 1 1 1]\n",
      "    [1 1 1 1 1 1]\n",
      "    [1 1 1 1 1 1]\n",
      "    [1 1 1 1 1 1]\n",
      "    [1 1 1 1 1 1]]\n",
      "\n",
      "   [[1 1 1 1 1 1]\n",
      "    [1 1 1 1 1 1]\n",
      "    [1 1 1 1 1 1]\n",
      "    [1 1 1 1 1 1]\n",
      "    [1 1 1 1 1 1]]]\n",
      "\n",
      "\n",
      "  [[[1 1 1 1 1 1]\n",
      "    [1 1 1 1 1 1]\n",
      "    [1 1 1 1 1 1]\n",
      "    [1 1 1 1 1 1]\n",
      "    [1 1 1 1 1 1]]\n",
      "\n",
      "   [[1 1 1 1 1 1]\n",
      "    [1 1 1 1 1 1]\n",
      "    [1 1 1 1 1 1]\n",
      "    [1 1 1 1 1 1]\n",
      "    [1 1 1 1 1 1]]\n",
      "\n",
      "   [[1 1 1 1 1 1]\n",
      "    [1 1 1 1 1 1]\n",
      "    [1 1 1 1 1 1]\n",
      "    [1 1 1 1 1 1]\n",
      "    [1 1 1 1 1 1]]\n",
      "\n",
      "   [[1 1 1 1 1 1]\n",
      "    [1 1 1 1 1 1]\n",
      "    [1 1 1 1 1 1]\n",
      "    [1 1 1 1 1 1]\n",
      "    [1 1 1 1 1 1]]]]]\n",
      "b:  [[[[[0 0 0 0 0 0]\n",
      "    [0 0 0 0 0 0]\n",
      "    [0 0 0 0 0 0]\n",
      "    [0 0 0 0 0 0]\n",
      "    [0 0 0 0 0 0]]\n",
      "\n",
      "   [[0 0 0 0 0 0]\n",
      "    [0 0 0 0 0 0]\n",
      "    [0 0 0 0 0 0]\n",
      "    [0 0 0 0 0 0]\n",
      "    [0 0 0 0 0 0]]\n",
      "\n",
      "   [[0 0 0 0 0 0]\n",
      "    [0 0 0 0 0 0]\n",
      "    [0 0 0 0 0 0]\n",
      "    [0 0 0 0 0 0]\n",
      "    [0 0 0 0 0 0]]\n",
      "\n",
      "   [[0 0 0 0 0 0]\n",
      "    [0 0 0 0 0 0]\n",
      "    [0 0 0 0 0 0]\n",
      "    [0 0 0 0 0 0]\n",
      "    [0 0 0 0 0 0]]]\n",
      "\n",
      "\n",
      "  [[[1 1 1 1 1 1]\n",
      "    [1 1 1 1 1 1]\n",
      "    [1 1 1 1 1 1]\n",
      "    [1 1 1 1 1 1]\n",
      "    [1 1 1 1 1 1]]\n",
      "\n",
      "   [[1 1 1 1 1 1]\n",
      "    [1 1 1 1 1 1]\n",
      "    [1 1 1 1 1 1]\n",
      "    [1 1 1 1 1 1]\n",
      "    [1 1 1 1 1 1]]\n",
      "\n",
      "   [[1 1 1 1 1 1]\n",
      "    [1 1 1 1 1 1]\n",
      "    [1 1 1 1 1 1]\n",
      "    [1 1 1 1 1 1]\n",
      "    [1 1 1 1 1 1]]\n",
      "\n",
      "   [[1 1 1 1 1 1]\n",
      "    [1 1 1 1 1 1]\n",
      "    [1 1 1 1 1 1]\n",
      "    [1 1 1 1 1 1]\n",
      "    [1 1 1 1 1 1]]]\n",
      "\n",
      "\n",
      "  [[[2 2 2 2 2 2]\n",
      "    [2 2 2 2 2 2]\n",
      "    [2 2 2 2 2 2]\n",
      "    [2 2 2 2 2 2]\n",
      "    [2 2 2 2 2 2]]\n",
      "\n",
      "   [[2 2 2 2 2 2]\n",
      "    [2 2 2 2 2 2]\n",
      "    [2 2 2 2 2 2]\n",
      "    [2 2 2 2 2 2]\n",
      "    [2 2 2 2 2 2]]\n",
      "\n",
      "   [[2 2 2 2 2 2]\n",
      "    [2 2 2 2 2 2]\n",
      "    [2 2 2 2 2 2]\n",
      "    [2 2 2 2 2 2]\n",
      "    [2 2 2 2 2 2]]\n",
      "\n",
      "   [[2 2 2 2 2 2]\n",
      "    [2 2 2 2 2 2]\n",
      "    [2 2 2 2 2 2]\n",
      "    [2 2 2 2 2 2]\n",
      "    [2 2 2 2 2 2]]]]\n",
      "\n",
      "\n",
      "\n",
      " [[[[0 0 0 0 0 0]\n",
      "    [0 0 0 0 0 0]\n",
      "    [0 0 0 0 0 0]\n",
      "    [0 0 0 0 0 0]\n",
      "    [0 0 0 0 0 0]]\n",
      "\n",
      "   [[0 0 0 0 0 0]\n",
      "    [0 0 0 0 0 0]\n",
      "    [0 0 0 0 0 0]\n",
      "    [0 0 0 0 0 0]\n",
      "    [0 0 0 0 0 0]]\n",
      "\n",
      "   [[0 0 0 0 0 0]\n",
      "    [0 0 0 0 0 0]\n",
      "    [0 0 0 0 0 0]\n",
      "    [0 0 0 0 0 0]\n",
      "    [0 0 0 0 0 0]]\n",
      "\n",
      "   [[0 0 0 0 0 0]\n",
      "    [0 0 0 0 0 0]\n",
      "    [0 0 0 0 0 0]\n",
      "    [0 0 0 0 0 0]\n",
      "    [0 0 0 0 0 0]]]\n",
      "\n",
      "\n",
      "  [[[1 1 1 1 1 1]\n",
      "    [1 1 1 1 1 1]\n",
      "    [1 1 1 1 1 1]\n",
      "    [1 1 1 1 1 1]\n",
      "    [1 1 1 1 1 1]]\n",
      "\n",
      "   [[1 1 1 1 1 1]\n",
      "    [1 1 1 1 1 1]\n",
      "    [1 1 1 1 1 1]\n",
      "    [1 1 1 1 1 1]\n",
      "    [1 1 1 1 1 1]]\n",
      "\n",
      "   [[1 1 1 1 1 1]\n",
      "    [1 1 1 1 1 1]\n",
      "    [1 1 1 1 1 1]\n",
      "    [1 1 1 1 1 1]\n",
      "    [1 1 1 1 1 1]]\n",
      "\n",
      "   [[1 1 1 1 1 1]\n",
      "    [1 1 1 1 1 1]\n",
      "    [1 1 1 1 1 1]\n",
      "    [1 1 1 1 1 1]\n",
      "    [1 1 1 1 1 1]]]\n",
      "\n",
      "\n",
      "  [[[2 2 2 2 2 2]\n",
      "    [2 2 2 2 2 2]\n",
      "    [2 2 2 2 2 2]\n",
      "    [2 2 2 2 2 2]\n",
      "    [2 2 2 2 2 2]]\n",
      "\n",
      "   [[2 2 2 2 2 2]\n",
      "    [2 2 2 2 2 2]\n",
      "    [2 2 2 2 2 2]\n",
      "    [2 2 2 2 2 2]\n",
      "    [2 2 2 2 2 2]]\n",
      "\n",
      "   [[2 2 2 2 2 2]\n",
      "    [2 2 2 2 2 2]\n",
      "    [2 2 2 2 2 2]\n",
      "    [2 2 2 2 2 2]\n",
      "    [2 2 2 2 2 2]]\n",
      "\n",
      "   [[2 2 2 2 2 2]\n",
      "    [2 2 2 2 2 2]\n",
      "    [2 2 2 2 2 2]\n",
      "    [2 2 2 2 2 2]\n",
      "    [2 2 2 2 2 2]]]]]\n",
      "c:  [[[[[0 0 0 0 0 0]\n",
      "    [0 0 0 0 0 0]\n",
      "    [0 0 0 0 0 0]\n",
      "    [0 0 0 0 0 0]\n",
      "    [0 0 0 0 0 0]]\n",
      "\n",
      "   [[1 1 1 1 1 1]\n",
      "    [1 1 1 1 1 1]\n",
      "    [1 1 1 1 1 1]\n",
      "    [1 1 1 1 1 1]\n",
      "    [1 1 1 1 1 1]]\n",
      "\n",
      "   [[2 2 2 2 2 2]\n",
      "    [2 2 2 2 2 2]\n",
      "    [2 2 2 2 2 2]\n",
      "    [2 2 2 2 2 2]\n",
      "    [2 2 2 2 2 2]]\n",
      "\n",
      "   [[3 3 3 3 3 3]\n",
      "    [3 3 3 3 3 3]\n",
      "    [3 3 3 3 3 3]\n",
      "    [3 3 3 3 3 3]\n",
      "    [3 3 3 3 3 3]]]\n",
      "\n",
      "\n",
      "  [[[0 0 0 0 0 0]\n",
      "    [0 0 0 0 0 0]\n",
      "    [0 0 0 0 0 0]\n",
      "    [0 0 0 0 0 0]\n",
      "    [0 0 0 0 0 0]]\n",
      "\n",
      "   [[1 1 1 1 1 1]\n",
      "    [1 1 1 1 1 1]\n",
      "    [1 1 1 1 1 1]\n",
      "    [1 1 1 1 1 1]\n",
      "    [1 1 1 1 1 1]]\n",
      "\n",
      "   [[2 2 2 2 2 2]\n",
      "    [2 2 2 2 2 2]\n",
      "    [2 2 2 2 2 2]\n",
      "    [2 2 2 2 2 2]\n",
      "    [2 2 2 2 2 2]]\n",
      "\n",
      "   [[3 3 3 3 3 3]\n",
      "    [3 3 3 3 3 3]\n",
      "    [3 3 3 3 3 3]\n",
      "    [3 3 3 3 3 3]\n",
      "    [3 3 3 3 3 3]]]\n",
      "\n",
      "\n",
      "  [[[0 0 0 0 0 0]\n",
      "    [0 0 0 0 0 0]\n",
      "    [0 0 0 0 0 0]\n",
      "    [0 0 0 0 0 0]\n",
      "    [0 0 0 0 0 0]]\n",
      "\n",
      "   [[1 1 1 1 1 1]\n",
      "    [1 1 1 1 1 1]\n",
      "    [1 1 1 1 1 1]\n",
      "    [1 1 1 1 1 1]\n",
      "    [1 1 1 1 1 1]]\n",
      "\n",
      "   [[2 2 2 2 2 2]\n",
      "    [2 2 2 2 2 2]\n",
      "    [2 2 2 2 2 2]\n",
      "    [2 2 2 2 2 2]\n",
      "    [2 2 2 2 2 2]]\n",
      "\n",
      "   [[3 3 3 3 3 3]\n",
      "    [3 3 3 3 3 3]\n",
      "    [3 3 3 3 3 3]\n",
      "    [3 3 3 3 3 3]\n",
      "    [3 3 3 3 3 3]]]]\n",
      "\n",
      "\n",
      "\n",
      " [[[[0 0 0 0 0 0]\n",
      "    [0 0 0 0 0 0]\n",
      "    [0 0 0 0 0 0]\n",
      "    [0 0 0 0 0 0]\n",
      "    [0 0 0 0 0 0]]\n",
      "\n",
      "   [[1 1 1 1 1 1]\n",
      "    [1 1 1 1 1 1]\n",
      "    [1 1 1 1 1 1]\n",
      "    [1 1 1 1 1 1]\n",
      "    [1 1 1 1 1 1]]\n",
      "\n",
      "   [[2 2 2 2 2 2]\n",
      "    [2 2 2 2 2 2]\n",
      "    [2 2 2 2 2 2]\n",
      "    [2 2 2 2 2 2]\n",
      "    [2 2 2 2 2 2]]\n",
      "\n",
      "   [[3 3 3 3 3 3]\n",
      "    [3 3 3 3 3 3]\n",
      "    [3 3 3 3 3 3]\n",
      "    [3 3 3 3 3 3]\n",
      "    [3 3 3 3 3 3]]]\n",
      "\n",
      "\n",
      "  [[[0 0 0 0 0 0]\n",
      "    [0 0 0 0 0 0]\n",
      "    [0 0 0 0 0 0]\n",
      "    [0 0 0 0 0 0]\n",
      "    [0 0 0 0 0 0]]\n",
      "\n",
      "   [[1 1 1 1 1 1]\n",
      "    [1 1 1 1 1 1]\n",
      "    [1 1 1 1 1 1]\n",
      "    [1 1 1 1 1 1]\n",
      "    [1 1 1 1 1 1]]\n",
      "\n",
      "   [[2 2 2 2 2 2]\n",
      "    [2 2 2 2 2 2]\n",
      "    [2 2 2 2 2 2]\n",
      "    [2 2 2 2 2 2]\n",
      "    [2 2 2 2 2 2]]\n",
      "\n",
      "   [[3 3 3 3 3 3]\n",
      "    [3 3 3 3 3 3]\n",
      "    [3 3 3 3 3 3]\n",
      "    [3 3 3 3 3 3]\n",
      "    [3 3 3 3 3 3]]]\n",
      "\n",
      "\n",
      "  [[[0 0 0 0 0 0]\n",
      "    [0 0 0 0 0 0]\n",
      "    [0 0 0 0 0 0]\n",
      "    [0 0 0 0 0 0]\n",
      "    [0 0 0 0 0 0]]\n",
      "\n",
      "   [[1 1 1 1 1 1]\n",
      "    [1 1 1 1 1 1]\n",
      "    [1 1 1 1 1 1]\n",
      "    [1 1 1 1 1 1]\n",
      "    [1 1 1 1 1 1]]\n",
      "\n",
      "   [[2 2 2 2 2 2]\n",
      "    [2 2 2 2 2 2]\n",
      "    [2 2 2 2 2 2]\n",
      "    [2 2 2 2 2 2]\n",
      "    [2 2 2 2 2 2]]\n",
      "\n",
      "   [[3 3 3 3 3 3]\n",
      "    [3 3 3 3 3 3]\n",
      "    [3 3 3 3 3 3]\n",
      "    [3 3 3 3 3 3]\n",
      "    [3 3 3 3 3 3]]]]]\n",
      "d:  [[[[[0 0 0 0 0 0]\n",
      "    [1 1 1 1 1 1]\n",
      "    [2 2 2 2 2 2]\n",
      "    [3 3 3 3 3 3]\n",
      "    [4 4 4 4 4 4]]\n",
      "\n",
      "   [[0 0 0 0 0 0]\n",
      "    [1 1 1 1 1 1]\n",
      "    [2 2 2 2 2 2]\n",
      "    [3 3 3 3 3 3]\n",
      "    [4 4 4 4 4 4]]\n",
      "\n",
      "   [[0 0 0 0 0 0]\n",
      "    [1 1 1 1 1 1]\n",
      "    [2 2 2 2 2 2]\n",
      "    [3 3 3 3 3 3]\n",
      "    [4 4 4 4 4 4]]\n",
      "\n",
      "   [[0 0 0 0 0 0]\n",
      "    [1 1 1 1 1 1]\n",
      "    [2 2 2 2 2 2]\n",
      "    [3 3 3 3 3 3]\n",
      "    [4 4 4 4 4 4]]]\n",
      "\n",
      "\n",
      "  [[[0 0 0 0 0 0]\n",
      "    [1 1 1 1 1 1]\n",
      "    [2 2 2 2 2 2]\n",
      "    [3 3 3 3 3 3]\n",
      "    [4 4 4 4 4 4]]\n",
      "\n",
      "   [[0 0 0 0 0 0]\n",
      "    [1 1 1 1 1 1]\n",
      "    [2 2 2 2 2 2]\n",
      "    [3 3 3 3 3 3]\n",
      "    [4 4 4 4 4 4]]\n",
      "\n",
      "   [[0 0 0 0 0 0]\n",
      "    [1 1 1 1 1 1]\n",
      "    [2 2 2 2 2 2]\n",
      "    [3 3 3 3 3 3]\n",
      "    [4 4 4 4 4 4]]\n",
      "\n",
      "   [[0 0 0 0 0 0]\n",
      "    [1 1 1 1 1 1]\n",
      "    [2 2 2 2 2 2]\n",
      "    [3 3 3 3 3 3]\n",
      "    [4 4 4 4 4 4]]]\n",
      "\n",
      "\n",
      "  [[[0 0 0 0 0 0]\n",
      "    [1 1 1 1 1 1]\n",
      "    [2 2 2 2 2 2]\n",
      "    [3 3 3 3 3 3]\n",
      "    [4 4 4 4 4 4]]\n",
      "\n",
      "   [[0 0 0 0 0 0]\n",
      "    [1 1 1 1 1 1]\n",
      "    [2 2 2 2 2 2]\n",
      "    [3 3 3 3 3 3]\n",
      "    [4 4 4 4 4 4]]\n",
      "\n",
      "   [[0 0 0 0 0 0]\n",
      "    [1 1 1 1 1 1]\n",
      "    [2 2 2 2 2 2]\n",
      "    [3 3 3 3 3 3]\n",
      "    [4 4 4 4 4 4]]\n",
      "\n",
      "   [[0 0 0 0 0 0]\n",
      "    [1 1 1 1 1 1]\n",
      "    [2 2 2 2 2 2]\n",
      "    [3 3 3 3 3 3]\n",
      "    [4 4 4 4 4 4]]]]\n",
      "\n",
      "\n",
      "\n",
      " [[[[0 0 0 0 0 0]\n",
      "    [1 1 1 1 1 1]\n",
      "    [2 2 2 2 2 2]\n",
      "    [3 3 3 3 3 3]\n",
      "    [4 4 4 4 4 4]]\n",
      "\n",
      "   [[0 0 0 0 0 0]\n",
      "    [1 1 1 1 1 1]\n",
      "    [2 2 2 2 2 2]\n",
      "    [3 3 3 3 3 3]\n",
      "    [4 4 4 4 4 4]]\n",
      "\n",
      "   [[0 0 0 0 0 0]\n",
      "    [1 1 1 1 1 1]\n",
      "    [2 2 2 2 2 2]\n",
      "    [3 3 3 3 3 3]\n",
      "    [4 4 4 4 4 4]]\n",
      "\n",
      "   [[0 0 0 0 0 0]\n",
      "    [1 1 1 1 1 1]\n",
      "    [2 2 2 2 2 2]\n",
      "    [3 3 3 3 3 3]\n",
      "    [4 4 4 4 4 4]]]\n",
      "\n",
      "\n",
      "  [[[0 0 0 0 0 0]\n",
      "    [1 1 1 1 1 1]\n",
      "    [2 2 2 2 2 2]\n",
      "    [3 3 3 3 3 3]\n",
      "    [4 4 4 4 4 4]]\n",
      "\n",
      "   [[0 0 0 0 0 0]\n",
      "    [1 1 1 1 1 1]\n",
      "    [2 2 2 2 2 2]\n",
      "    [3 3 3 3 3 3]\n",
      "    [4 4 4 4 4 4]]\n",
      "\n",
      "   [[0 0 0 0 0 0]\n",
      "    [1 1 1 1 1 1]\n",
      "    [2 2 2 2 2 2]\n",
      "    [3 3 3 3 3 3]\n",
      "    [4 4 4 4 4 4]]\n",
      "\n",
      "   [[0 0 0 0 0 0]\n",
      "    [1 1 1 1 1 1]\n",
      "    [2 2 2 2 2 2]\n",
      "    [3 3 3 3 3 3]\n",
      "    [4 4 4 4 4 4]]]\n",
      "\n",
      "\n",
      "  [[[0 0 0 0 0 0]\n",
      "    [1 1 1 1 1 1]\n",
      "    [2 2 2 2 2 2]\n",
      "    [3 3 3 3 3 3]\n",
      "    [4 4 4 4 4 4]]\n",
      "\n",
      "   [[0 0 0 0 0 0]\n",
      "    [1 1 1 1 1 1]\n",
      "    [2 2 2 2 2 2]\n",
      "    [3 3 3 3 3 3]\n",
      "    [4 4 4 4 4 4]]\n",
      "\n",
      "   [[0 0 0 0 0 0]\n",
      "    [1 1 1 1 1 1]\n",
      "    [2 2 2 2 2 2]\n",
      "    [3 3 3 3 3 3]\n",
      "    [4 4 4 4 4 4]]\n",
      "\n",
      "   [[0 0 0 0 0 0]\n",
      "    [1 1 1 1 1 1]\n",
      "    [2 2 2 2 2 2]\n",
      "    [3 3 3 3 3 3]\n",
      "    [4 4 4 4 4 4]]]]]\n",
      "e:  [[[[[0 1 2 3 4 5]\n",
      "    [0 1 2 3 4 5]\n",
      "    [0 1 2 3 4 5]\n",
      "    [0 1 2 3 4 5]\n",
      "    [0 1 2 3 4 5]]\n",
      "\n",
      "   [[0 1 2 3 4 5]\n",
      "    [0 1 2 3 4 5]\n",
      "    [0 1 2 3 4 5]\n",
      "    [0 1 2 3 4 5]\n",
      "    [0 1 2 3 4 5]]\n",
      "\n",
      "   [[0 1 2 3 4 5]\n",
      "    [0 1 2 3 4 5]\n",
      "    [0 1 2 3 4 5]\n",
      "    [0 1 2 3 4 5]\n",
      "    [0 1 2 3 4 5]]\n",
      "\n",
      "   [[0 1 2 3 4 5]\n",
      "    [0 1 2 3 4 5]\n",
      "    [0 1 2 3 4 5]\n",
      "    [0 1 2 3 4 5]\n",
      "    [0 1 2 3 4 5]]]\n",
      "\n",
      "\n",
      "  [[[0 1 2 3 4 5]\n",
      "    [0 1 2 3 4 5]\n",
      "    [0 1 2 3 4 5]\n",
      "    [0 1 2 3 4 5]\n",
      "    [0 1 2 3 4 5]]\n",
      "\n",
      "   [[0 1 2 3 4 5]\n",
      "    [0 1 2 3 4 5]\n",
      "    [0 1 2 3 4 5]\n",
      "    [0 1 2 3 4 5]\n",
      "    [0 1 2 3 4 5]]\n",
      "\n",
      "   [[0 1 2 3 4 5]\n",
      "    [0 1 2 3 4 5]\n",
      "    [0 1 2 3 4 5]\n",
      "    [0 1 2 3 4 5]\n",
      "    [0 1 2 3 4 5]]\n",
      "\n",
      "   [[0 1 2 3 4 5]\n",
      "    [0 1 2 3 4 5]\n",
      "    [0 1 2 3 4 5]\n",
      "    [0 1 2 3 4 5]\n",
      "    [0 1 2 3 4 5]]]\n",
      "\n",
      "\n",
      "  [[[0 1 2 3 4 5]\n",
      "    [0 1 2 3 4 5]\n",
      "    [0 1 2 3 4 5]\n",
      "    [0 1 2 3 4 5]\n",
      "    [0 1 2 3 4 5]]\n",
      "\n",
      "   [[0 1 2 3 4 5]\n",
      "    [0 1 2 3 4 5]\n",
      "    [0 1 2 3 4 5]\n",
      "    [0 1 2 3 4 5]\n",
      "    [0 1 2 3 4 5]]\n",
      "\n",
      "   [[0 1 2 3 4 5]\n",
      "    [0 1 2 3 4 5]\n",
      "    [0 1 2 3 4 5]\n",
      "    [0 1 2 3 4 5]\n",
      "    [0 1 2 3 4 5]]\n",
      "\n",
      "   [[0 1 2 3 4 5]\n",
      "    [0 1 2 3 4 5]\n",
      "    [0 1 2 3 4 5]\n",
      "    [0 1 2 3 4 5]\n",
      "    [0 1 2 3 4 5]]]]\n",
      "\n",
      "\n",
      "\n",
      " [[[[0 1 2 3 4 5]\n",
      "    [0 1 2 3 4 5]\n",
      "    [0 1 2 3 4 5]\n",
      "    [0 1 2 3 4 5]\n",
      "    [0 1 2 3 4 5]]\n",
      "\n",
      "   [[0 1 2 3 4 5]\n",
      "    [0 1 2 3 4 5]\n",
      "    [0 1 2 3 4 5]\n",
      "    [0 1 2 3 4 5]\n",
      "    [0 1 2 3 4 5]]\n",
      "\n",
      "   [[0 1 2 3 4 5]\n",
      "    [0 1 2 3 4 5]\n",
      "    [0 1 2 3 4 5]\n",
      "    [0 1 2 3 4 5]\n",
      "    [0 1 2 3 4 5]]\n",
      "\n",
      "   [[0 1 2 3 4 5]\n",
      "    [0 1 2 3 4 5]\n",
      "    [0 1 2 3 4 5]\n",
      "    [0 1 2 3 4 5]\n",
      "    [0 1 2 3 4 5]]]\n",
      "\n",
      "\n",
      "  [[[0 1 2 3 4 5]\n",
      "    [0 1 2 3 4 5]\n",
      "    [0 1 2 3 4 5]\n",
      "    [0 1 2 3 4 5]\n",
      "    [0 1 2 3 4 5]]\n",
      "\n",
      "   [[0 1 2 3 4 5]\n",
      "    [0 1 2 3 4 5]\n",
      "    [0 1 2 3 4 5]\n",
      "    [0 1 2 3 4 5]\n",
      "    [0 1 2 3 4 5]]\n",
      "\n",
      "   [[0 1 2 3 4 5]\n",
      "    [0 1 2 3 4 5]\n",
      "    [0 1 2 3 4 5]\n",
      "    [0 1 2 3 4 5]\n",
      "    [0 1 2 3 4 5]]\n",
      "\n",
      "   [[0 1 2 3 4 5]\n",
      "    [0 1 2 3 4 5]\n",
      "    [0 1 2 3 4 5]\n",
      "    [0 1 2 3 4 5]\n",
      "    [0 1 2 3 4 5]]]\n",
      "\n",
      "\n",
      "  [[[0 1 2 3 4 5]\n",
      "    [0 1 2 3 4 5]\n",
      "    [0 1 2 3 4 5]\n",
      "    [0 1 2 3 4 5]\n",
      "    [0 1 2 3 4 5]]\n",
      "\n",
      "   [[0 1 2 3 4 5]\n",
      "    [0 1 2 3 4 5]\n",
      "    [0 1 2 3 4 5]\n",
      "    [0 1 2 3 4 5]\n",
      "    [0 1 2 3 4 5]]\n",
      "\n",
      "   [[0 1 2 3 4 5]\n",
      "    [0 1 2 3 4 5]\n",
      "    [0 1 2 3 4 5]\n",
      "    [0 1 2 3 4 5]\n",
      "    [0 1 2 3 4 5]]\n",
      "\n",
      "   [[0 1 2 3 4 5]\n",
      "    [0 1 2 3 4 5]\n",
      "    [0 1 2 3 4 5]\n",
      "    [0 1 2 3 4 5]\n",
      "    [0 1 2 3 4 5]]]]]\n"
     ]
    }
   ],
   "source": [
    "p = np.fromfunction(f5, SHAPE_5D, dtype=np.int16)"
   ]
  },
  {
   "cell_type": "code",
   "execution_count": 96,
   "id": "49afcf1b",
   "metadata": {},
   "outputs": [
    {
     "name": "stdout",
     "output_type": "stream",
     "text": [
      "[[[[[    0     1     2     3     4     5]\n",
      "    [   10    11    12    13    14    15]\n",
      "    [   20    21    22    23    24    25]\n",
      "    [   30    31    32    33    34    35]\n",
      "    [   40    41    42    43    44    45]]\n",
      "\n",
      "   [[  100   101   102   103   104   105]\n",
      "    [  110   111   112   113   114   115]\n",
      "    [  120   121   122   123   124   125]\n",
      "    [  130   131   132   133   134   135]\n",
      "    [  140   141   142   143   144   145]]\n",
      "\n",
      "   [[  200   201   202   203   204   205]\n",
      "    [  210   211   212   213   214   215]\n",
      "    [  220   221   222   223   224   225]\n",
      "    [  230   231   232   233   234   235]\n",
      "    [  240   241   242   243   244   245]]\n",
      "\n",
      "   [[  300   301   302   303   304   305]\n",
      "    [  310   311   312   313   314   315]\n",
      "    [  320   321   322   323   324   325]\n",
      "    [  330   331   332   333   334   335]\n",
      "    [  340   341   342   343   344   345]]]\n",
      "\n",
      "\n",
      "  [[[ 1000  1001  1002  1003  1004  1005]\n",
      "    [ 1010  1011  1012  1013  1014  1015]\n",
      "    [ 1020  1021  1022  1023  1024  1025]\n",
      "    [ 1030  1031  1032  1033  1034  1035]\n",
      "    [ 1040  1041  1042  1043  1044  1045]]\n",
      "\n",
      "   [[ 1100  1101  1102  1103  1104  1105]\n",
      "    [ 1110  1111  1112  1113  1114  1115]\n",
      "    [ 1120  1121  1122  1123  1124  1125]\n",
      "    [ 1130  1131  1132  1133  1134  1135]\n",
      "    [ 1140  1141  1142  1143  1144  1145]]\n",
      "\n",
      "   [[ 1200  1201  1202  1203  1204  1205]\n",
      "    [ 1210  1211  1212  1213  1214  1215]\n",
      "    [ 1220  1221  1222  1223  1224  1225]\n",
      "    [ 1230  1231  1232  1233  1234  1235]\n",
      "    [ 1240  1241  1242  1243  1244  1245]]\n",
      "\n",
      "   [[ 1300  1301  1302  1303  1304  1305]\n",
      "    [ 1310  1311  1312  1313  1314  1315]\n",
      "    [ 1320  1321  1322  1323  1324  1325]\n",
      "    [ 1330  1331  1332  1333  1334  1335]\n",
      "    [ 1340  1341  1342  1343  1344  1345]]]\n",
      "\n",
      "\n",
      "  [[[ 2000  2001  2002  2003  2004  2005]\n",
      "    [ 2010  2011  2012  2013  2014  2015]\n",
      "    [ 2020  2021  2022  2023  2024  2025]\n",
      "    [ 2030  2031  2032  2033  2034  2035]\n",
      "    [ 2040  2041  2042  2043  2044  2045]]\n",
      "\n",
      "   [[ 2100  2101  2102  2103  2104  2105]\n",
      "    [ 2110  2111  2112  2113  2114  2115]\n",
      "    [ 2120  2121  2122  2123  2124  2125]\n",
      "    [ 2130  2131  2132  2133  2134  2135]\n",
      "    [ 2140  2141  2142  2143  2144  2145]]\n",
      "\n",
      "   [[ 2200  2201  2202  2203  2204  2205]\n",
      "    [ 2210  2211  2212  2213  2214  2215]\n",
      "    [ 2220  2221  2222  2223  2224  2225]\n",
      "    [ 2230  2231  2232  2233  2234  2235]\n",
      "    [ 2240  2241  2242  2243  2244  2245]]\n",
      "\n",
      "   [[ 2300  2301  2302  2303  2304  2305]\n",
      "    [ 2310  2311  2312  2313  2314  2315]\n",
      "    [ 2320  2321  2322  2323  2324  2325]\n",
      "    [ 2330  2331  2332  2333  2334  2335]\n",
      "    [ 2340  2341  2342  2343  2344  2345]]]]\n",
      "\n",
      "\n",
      "\n",
      " [[[[10000 10001 10002 10003 10004 10005]\n",
      "    [10010 10011 10012 10013 10014 10015]\n",
      "    [10020 10021 10022 10023 10024 10025]\n",
      "    [10030 10031 10032 10033 10034 10035]\n",
      "    [10040 10041 10042 10043 10044 10045]]\n",
      "\n",
      "   [[10100 10101 10102 10103 10104 10105]\n",
      "    [10110 10111 10112 10113 10114 10115]\n",
      "    [10120 10121 10122 10123 10124 10125]\n",
      "    [10130 10131 10132 10133 10134 10135]\n",
      "    [10140 10141 10142 10143 10144 10145]]\n",
      "\n",
      "   [[10200 10201 10202 10203 10204 10205]\n",
      "    [10210 10211 10212 10213 10214 10215]\n",
      "    [10220 10221 10222 10223 10224 10225]\n",
      "    [10230 10231 10232 10233 10234 10235]\n",
      "    [10240 10241 10242 10243 10244 10245]]\n",
      "\n",
      "   [[10300 10301 10302 10303 10304 10305]\n",
      "    [10310 10311 10312 10313 10314 10315]\n",
      "    [10320 10321 10322 10323 10324 10325]\n",
      "    [10330 10331 10332 10333 10334 10335]\n",
      "    [10340 10341 10342 10343 10344 10345]]]\n",
      "\n",
      "\n",
      "  [[[11000 11001 11002 11003 11004 11005]\n",
      "    [11010 11011 11012 11013 11014 11015]\n",
      "    [11020 11021 11022 11023 11024 11025]\n",
      "    [11030 11031 11032 11033 11034 11035]\n",
      "    [11040 11041 11042 11043 11044 11045]]\n",
      "\n",
      "   [[11100 11101 11102 11103 11104 11105]\n",
      "    [11110 11111 11112 11113 11114 11115]\n",
      "    [11120 11121 11122 11123 11124 11125]\n",
      "    [11130 11131 11132 11133 11134 11135]\n",
      "    [11140 11141 11142 11143 11144 11145]]\n",
      "\n",
      "   [[11200 11201 11202 11203 11204 11205]\n",
      "    [11210 11211 11212 11213 11214 11215]\n",
      "    [11220 11221 11222 11223 11224 11225]\n",
      "    [11230 11231 11232 11233 11234 11235]\n",
      "    [11240 11241 11242 11243 11244 11245]]\n",
      "\n",
      "   [[11300 11301 11302 11303 11304 11305]\n",
      "    [11310 11311 11312 11313 11314 11315]\n",
      "    [11320 11321 11322 11323 11324 11325]\n",
      "    [11330 11331 11332 11333 11334 11335]\n",
      "    [11340 11341 11342 11343 11344 11345]]]\n",
      "\n",
      "\n",
      "  [[[12000 12001 12002 12003 12004 12005]\n",
      "    [12010 12011 12012 12013 12014 12015]\n",
      "    [12020 12021 12022 12023 12024 12025]\n",
      "    [12030 12031 12032 12033 12034 12035]\n",
      "    [12040 12041 12042 12043 12044 12045]]\n",
      "\n",
      "   [[12100 12101 12102 12103 12104 12105]\n",
      "    [12110 12111 12112 12113 12114 12115]\n",
      "    [12120 12121 12122 12123 12124 12125]\n",
      "    [12130 12131 12132 12133 12134 12135]\n",
      "    [12140 12141 12142 12143 12144 12145]]\n",
      "\n",
      "   [[12200 12201 12202 12203 12204 12205]\n",
      "    [12210 12211 12212 12213 12214 12215]\n",
      "    [12220 12221 12222 12223 12224 12225]\n",
      "    [12230 12231 12232 12233 12234 12235]\n",
      "    [12240 12241 12242 12243 12244 12245]]\n",
      "\n",
      "   [[12300 12301 12302 12303 12304 12305]\n",
      "    [12310 12311 12312 12313 12314 12315]\n",
      "    [12320 12321 12322 12323 12324 12325]\n",
      "    [12330 12331 12332 12333 12334 12335]\n",
      "    [12340 12341 12342 12343 12344 12345]]]]]\n"
     ]
    }
   ],
   "source": [
    "print(p)"
   ]
  },
  {
   "cell_type": "code",
   "execution_count": 109,
   "id": "1a265c3a",
   "metadata": {},
   "outputs": [
    {
     "name": "stdout",
     "output_type": "stream",
     "text": [
      "[[[12001 12002]\n",
      "  [12011 12012]\n",
      "  [12021 12022]\n",
      "  [12031 12032]\n",
      "  [12041 12042]]\n",
      "\n",
      " [[12101 12102]\n",
      "  [12111 12112]\n",
      "  [12121 12122]\n",
      "  [12131 12132]\n",
      "  [12141 12142]]\n",
      "\n",
      " [[12201 12202]\n",
      "  [12211 12212]\n",
      "  [12221 12222]\n",
      "  [12231 12232]\n",
      "  [12241 12242]]\n",
      "\n",
      " [[12301 12302]\n",
      "  [12311 12312]\n",
      "  [12321 12322]\n",
      "  [12331 12332]\n",
      "  [12341 12342]]]\n"
     ]
    }
   ],
   "source": [
    "print(p[1, ..., 1:3])"
   ]
  },
  {
   "cell_type": "code",
   "execution_count": null,
   "id": "c2952e3c",
   "metadata": {},
   "outputs": [],
   "source": []
  }
 ],
 "metadata": {
  "kernelspec": {
   "display_name": "Python 3 (ipykernel)",
   "language": "python",
   "name": "python3"
  },
  "language_info": {
   "codemirror_mode": {
    "name": "ipython",
    "version": 3
   },
   "file_extension": ".py",
   "mimetype": "text/x-python",
   "name": "python",
   "nbconvert_exporter": "python",
   "pygments_lexer": "ipython3",
   "version": "3.9.10"
  }
 },
 "nbformat": 4,
 "nbformat_minor": 5
}
